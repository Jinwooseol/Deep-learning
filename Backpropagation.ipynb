{
  "nbformat": 4,
  "nbformat_minor": 0,
  "metadata": {
    "colab": {
      "name": "Backpropagation.ipynb",
      "provenance": [],
      "authorship_tag": "ABX9TyOalAI7Y634bU2c0sdE0LI0",
      "include_colab_link": true
    },
    "kernelspec": {
      "name": "python3",
      "display_name": "Python 3"
    },
    "language_info": {
      "name": "python"
    }
  },
  "cells": [
    {
      "cell_type": "markdown",
      "metadata": {
        "id": "view-in-github",
        "colab_type": "text"
      },
      "source": [
        "<a href=\"https://colab.research.google.com/github/Jinwooseol/Deep-learning/blob/main/Backpropagation.ipynb\" target=\"_parent\"><img src=\"https://colab.research.google.com/assets/colab-badge.svg\" alt=\"Open In Colab\"/></a>"
      ]
    },
    {
      "cell_type": "markdown",
      "source": [
        "#오차역전파 (Backpropagation Algorithm)\n",
        "- 학습 데이터로 정방향(forward) 연산을 통해 손실함수 값(loss)을 구함\n",
        "- 각 layer별로 역전파학습을 위한 중간값을 저장\n",
        "- 손실함수를 학습 파라미터(weight, bias)로 미분하여, 마지막 layer로부터 앞으로 하나씩 연쇄법칙을 이용해 미분\n",
        "- 각 layer를 통과할 때마다 저장된 값을 이용\n",
        "- Error를 전달하면서 학습 파라미터를 갱신\n",
        "\n",
        "#오차역전파 학습의 특징\n",
        "- 손실함수를 통한 평가를 한 번만 진행, 연쇄법칙을 이용한 미분을 활용  \n",
        "  $\\rightarrow$ **학습 소요시간이 매우 단축**\n",
        "- 미분을 위한 중간값을 모두 저장하기 때문에 많은 메모리 사용\n",
        "\n",
        "#신경망 학습에 있어서 미분가능성의 중요성\n",
        "- 경사하강법(Gradient descent)에서 손실 함수의 최소값 (최적값)을 찾기 위해 **미분**을 활용\n",
        "- 미분을 통해 손실 함수의 학습 파라미터를 갱신하여 모델의 가중치의 최적값을 찾는 과정\n",
        "\n",
        "#합성함수의 미분 (연쇄법칙, chain rule)\n",
        ">>$\\frac{d}{dx}[f(g(x))] = f'(g(x))g'(x)$\n",
        "- 여러 개를 연속으로 사용가능\n",
        "$\\frac{\\partial f}{\\partial x} = \\frac{\\partial f}{\\partial u} \\times \\frac{\\partial u}{\\partial m} \\times \\frac{\\partial m}{\\partial n} \\times ... ~\\times \\frac{\\partial l}{\\partial k} \\times \\frac{\\partial k}{\\partial x}$\n",
        "\n"
      ],
      "metadata": {
        "id": "V4Po_E8AYggj"
      }
    },
    {
      "cell_type": "markdown",
      "source": [
        "덧셈, 곱셈 계층의 역전파\n",
        "> 1. $z = x + y$ 일 때,  \n",
        "$\\frac{\\partial z}{\\partial x} = 1, \\frac{\\partial z}{\\partial y} = 1$\n",
        "\n",
        "\n",
        ">2. $t = xy$ 일 때,  \n",
        "$\\frac{\\partial t}{\\partial x} = y, \\frac{\\partial t}{\\partial y} = x$"
      ],
      "metadata": {
        "id": "7RkG6WZCd6bf"
      }
    },
    {
      "cell_type": "code",
      "source": [
        "class Mul():\n",
        "\n",
        "  def __init__(self):\n",
        "    self.x = None\n",
        "    self.y = None\n",
        "\n",
        "  def forward(self, x, y):\n",
        "    self.x = x\n",
        "    self.y = y\n",
        "    result = x * y\n",
        "    return result\n",
        "\n",
        "  def backward(self, dresult):\n",
        "    dx = dresult * self.y\n",
        "    dy = dresult * self.x\n",
        "    return dx, dy"
      ],
      "metadata": {
        "id": "QdoJQrWvecca"
      },
      "execution_count": 1,
      "outputs": []
    },
    {
      "cell_type": "code",
      "source": [
        "class Add():\n",
        "\n",
        "  def __init__(self):\n",
        "    self.x = None\n",
        "    self.y = None\n",
        "\n",
        "  def forward(self, x, y):\n",
        "    self.x = x\n",
        "    self.y = y\n",
        "    result = x + y\n",
        "    return result\n",
        "\n",
        "  def backward(self, dresult):\n",
        "    dx = dresult * 1\n",
        "    dy = dresult * 1\n",
        "    return dx, dy"
      ],
      "metadata": {
        "id": "IU9yRT7Ee94E"
      },
      "execution_count": 12,
      "outputs": []
    },
    {
      "cell_type": "code",
      "source": [
        "a, b, c = -1, 3, 4\n",
        "x = Add()\n",
        "y = Add()\n",
        "f = Mul()"
      ],
      "metadata": {
        "id": "AVGOOWXufOjK"
      },
      "execution_count": 13,
      "outputs": []
    },
    {
      "cell_type": "code",
      "source": [
        "x_result = x.forward(a, b)\n",
        "y_result = y.forward(b, c)\n",
        "\n",
        "print(x_result)\n",
        "print(y_result)\n",
        "print(f.forward(x_result, y_result))"
      ],
      "metadata": {
        "colab": {
          "base_uri": "https://localhost:8080/"
        },
        "id": "f1V2Eex6fTtX",
        "outputId": "ee33bae9-77b2-4062-c03a-301c9cd69b42"
      },
      "execution_count": 14,
      "outputs": [
        {
          "output_type": "stream",
          "name": "stdout",
          "text": [
            "2\n",
            "7\n",
            "14\n"
          ]
        }
      ]
    },
    {
      "cell_type": "code",
      "source": [
        "dresult = 1\n",
        "dx_mul, dy_mul = f.backward(dresult)\n",
        "\n",
        "da_add, db_add_1 = x.backward(dx_mul)\n",
        "db_add_2, dc_add = y.backward(dy_mul)\n",
        "\n",
        "print(dx_mul, dy_mul)\n",
        "print(da_add)\n",
        "print(db_add_1 + db_add_2)\n",
        "print(dc_add)"
      ],
      "metadata": {
        "colab": {
          "base_uri": "https://localhost:8080/"
        },
        "id": "tnuIeNtef5ae",
        "outputId": "511b7beb-ae30-4600-84f3-560fe286aaec"
      },
      "execution_count": 15,
      "outputs": [
        {
          "output_type": "stream",
          "name": "stdout",
          "text": [
            "7 2\n",
            "7\n",
            "9\n",
            "2\n"
          ]
        }
      ]
    },
    {
      "cell_type": "markdown",
      "source": [
        "![image.png](data:image/png;base64,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)\n",
        "\n",
        "Reference: https://medium.com/spidernitt/breaking-down-neural-networks-an-intuitive-approach-to-backpropagation-3b2ff958794c"
      ],
      "metadata": {
        "id": "77e5P63Lcq-t"
      }
    },
    {
      "cell_type": "markdown",
      "source": [
        "#Activation Function에서의 역전파\n",
        "- Sigmoid function\n",
        ">$y = \\frac{1}{1 + e^{-x}}$ 일 때,  \n",
        "$y' = y(1 - y)$"
      ],
      "metadata": {
        "id": "VvDtHnoahr9N"
      }
    },
    {
      "cell_type": "code",
      "execution_count": 18,
      "metadata": {
        "id": "M9dy2SW1XrWU"
      },
      "outputs": [],
      "source": [
        "import numpy as np\n",
        "\n",
        "# Sigmoid function 구현\n",
        "class Sigmoid():\n",
        "  \n",
        "  def __init__(self):\n",
        "    self.out = None\n",
        "\n",
        "  def forward(self, x):\n",
        "    out = 1 / (1 + np.exp(-x))\n",
        "    return out\n",
        "\n",
        "  def backward(self, dout):\n",
        "    dx = dout * (1.0 - self.out) * self.dout\n",
        "    return dx"
      ]
    },
    {
      "cell_type": "markdown",
      "source": [
        "- ReLU function  \n",
        "\n",
        ">> $y = \\left\\{\\begin{matrix}0\n",
        " & (x \\le 0) \\\\x\n",
        " &  (x > 0)\\\\\n",
        "\\end{matrix}\\right.$  \n",
        "\n",
        ">> $y' = \\left\\{\\begin{matrix}0\n",
        " & (x \\le 0) \\\\1\n",
        " &  (x > 0)\\\\\n",
        "\\end{matrix}\\right.$"
      ],
      "metadata": {
        "id": "e7q1v5ODiHrJ"
      }
    },
    {
      "cell_type": "code",
      "source": [
        "class ReLU():\n",
        "\n",
        "  def __init__(self):\n",
        "    self.out = None\n",
        "\n",
        "  def forward(self, x):\n",
        "    self.mask = (x < 0)\n",
        "    out = x.copy()\n",
        "    out[x<0] = 0\n",
        "    return out\n",
        "\n",
        "  def backward(self, dout):\n",
        "    dout[self.mask] = 0\n",
        "    dx = dout\n",
        "    return dx"
      ],
      "metadata": {
        "id": "tGI39Fddj21X"
      },
      "execution_count": 19,
      "outputs": []
    },
    {
      "cell_type": "markdown",
      "source": [
        "#행렬 연산에 대한 역전파\n",
        "> $ Y = X \\bullet W + B$\n",
        "\n",
        "순전파(Forward)\n",
        "- 형상(shape)을 맞춰야함\n",
        "- 곱셈, 덧셈 계층을 합친 형태"
      ],
      "metadata": {
        "id": "kRjUv8C3kPdo"
      }
    },
    {
      "cell_type": "code",
      "source": [
        "X = np.random.rand(3)\n",
        "W = np.random.rand(3, 2)\n",
        "B = np.random.rand(2)\n",
        "\n",
        "print(X.shape, W.shape, B.shape)\n"
      ],
      "metadata": {
        "colab": {
          "base_uri": "https://localhost:8080/"
        },
        "id": "UYeNhRXUkO9-",
        "outputId": "3844db50-4fe4-47eb-f68a-ccac95ba2401"
      },
      "execution_count": 20,
      "outputs": [
        {
          "output_type": "stream",
          "name": "stdout",
          "text": [
            "(3,) (3, 2) (2,)\n"
          ]
        }
      ]
    },
    {
      "cell_type": "code",
      "source": [
        "Y = np.dot(X, W) + B\n",
        "print(Y.shape)"
      ],
      "metadata": {
        "colab": {
          "base_uri": "https://localhost:8080/"
        },
        "id": "unzOcRNylIV3",
        "outputId": "30bfa9e3-ba21-4428-ca12-e2c197988fa9"
      },
      "execution_count": 21,
      "outputs": [
        {
          "output_type": "stream",
          "name": "stdout",
          "text": [
            "(2,)\n"
          ]
        }
      ]
    },
    {
      "cell_type": "markdown",
      "source": [
        "역전파(Backward)\n",
        "\n",
        "$ Y = X \\bullet W + B$\n",
        "- $X: (2, )$\n",
        "- $W: (2, 3)$\n",
        "- $B: (3, )$\n",
        "- $\\frac{\\partial L}{\\partial X} = \\frac{\\partial L}{\\partial Y} \\bullet W^T, ~(2, )$\n",
        "- $\\frac{\\partial L}{\\partial W} = X^T \\bullet \\frac{\\partial L}{\\partial Y}, (2, 3)$\n",
        "- $\\frac{\\partial L}{\\partial B} = \\frac{\\partial L}{\\partial Y}, (3, )$"
      ],
      "metadata": {
        "id": "VGQaKOlolT5T"
      }
    },
    {
      "cell_type": "code",
      "source": [
        "X = np.random.randn(2)\n",
        "W = np.random.randn(2, 3)\n",
        "B = np.random.randn(3)\n",
        "Y = np.dot(X, W) + B\n",
        "\n",
        "print(\"X\\n{}\".format(X))\n",
        "print(\"W\\n{}\".format(W))\n",
        "print(\"B\\n{}\".format(B))\n",
        "print(\"Y\\n{}\".format(Y))"
      ],
      "metadata": {
        "colab": {
          "base_uri": "https://localhost:8080/"
        },
        "id": "OrL5RPgwlMBJ",
        "outputId": "489417dd-ddfe-4e0d-8d55-f474b5b09fad"
      },
      "execution_count": 22,
      "outputs": [
        {
          "output_type": "stream",
          "name": "stdout",
          "text": [
            "X\n",
            "[ 0.64222949 -0.51602227]\n",
            "W\n",
            "[[ 0.61200285 -0.95451013  1.16159028]\n",
            " [ 1.6240732  -0.61513585 -1.43294708]]\n",
            "B\n",
            "[1.27622168 1.45081952 0.08552042]\n",
            "Y\n",
            "[0.83121001 1.15522876 1.57096056]\n"
          ]
        }
      ]
    },
    {
      "cell_type": "code",
      "source": [
        "dL_dY = np.random.randn(3)\n",
        "dL_dX = np.dot(dL_dY, W.T)\n",
        "dL_dW = np.dot(X.reshape(-1, 1), dL_dY.reshape(1, -1))\n",
        "dL_dB = dL_dY\n",
        "\n",
        "print(\"dL_dY\\n{}\".format(dL_dY))\n",
        "print(\"dL_dX\\n{}\".format(dL_dX))\n",
        "print(\"dL_dW\\n{}\".format(dL_dW))\n",
        "print(\"dL_dB\\n{}\".format(dL_dB))"
      ],
      "metadata": {
        "colab": {
          "base_uri": "https://localhost:8080/"
        },
        "id": "AY19sF2CB1f8",
        "outputId": "2354cdf5-51bb-4e82-fa9b-98ad1a1389dc"
      },
      "execution_count": 24,
      "outputs": [
        {
          "output_type": "stream",
          "name": "stdout",
          "text": [
            "dL_dY\n",
            "[-0.79497385 -1.20675174  0.85718261]\n",
            "dL_dX\n",
            "[ 1.6610255  -1.77707679]\n",
            "dL_dW\n",
            "[[-0.51055565 -0.77501156  0.55050795]\n",
            " [ 0.41022421  0.62271077 -0.44232532]]\n",
            "dL_dB\n",
            "[-0.79497385 -1.20675174  0.85718261]\n"
          ]
        }
      ]
    },
    {
      "cell_type": "markdown",
      "source": [
        "#배치용 행렬 내적 계층\n",
        "- N개의 데이터에 대하여\n",
        ">$ Y = X \\bullet W + B$  \n",
        "  - $X: (N, 3)$\n",
        "  - $W: (2, 3)$\n",
        "  - $B: (2, )$"
      ],
      "metadata": {
        "id": "ybiNRfAACmYP"
      }
    },
    {
      "cell_type": "code",
      "source": [
        "X = np.random.randn(4, 3)\n",
        "W = np.random.randn(3, 2)\n",
        "B = np.random.randn(2)\n",
        "Y = np.dot(X, W) + B  # forward\n",
        "\n",
        "print(X.shape)\n",
        "print(W.shape)\n",
        "print(B.shape)\n",
        "print(Y.shape)"
      ],
      "metadata": {
        "colab": {
          "base_uri": "https://localhost:8080/"
        },
        "id": "hK9voT6HCenb",
        "outputId": "8abe5748-f1d4-4154-d12a-92d487dca1b3"
      },
      "execution_count": 30,
      "outputs": [
        {
          "output_type": "stream",
          "name": "stdout",
          "text": [
            "(4, 3)\n",
            "(3, 2)\n",
            "(2,)\n",
            "(4, 2)\n"
          ]
        }
      ]
    },
    {
      "cell_type": "code",
      "source": [
        "print(\"X\\n{}\".format(X))\n",
        "print(\"W\\n{}\".format(W))\n",
        "print(\"B\\n{}\".format(B))\n",
        "print(\"Y\\n{}\".format(Y))"
      ],
      "metadata": {
        "colab": {
          "base_uri": "https://localhost:8080/"
        },
        "id": "rPXcqN6iDE38",
        "outputId": "b38e99dc-792c-4911-83ec-06ad16ffdc4a"
      },
      "execution_count": 31,
      "outputs": [
        {
          "output_type": "stream",
          "name": "stdout",
          "text": [
            "X\n",
            "[[-0.95199669  0.59257606 -0.82076141]\n",
            " [ 2.20948531 -2.52944964 -0.43981164]\n",
            " [-1.24442686  0.59893332 -0.34351531]\n",
            " [-1.12906303 -0.0790558   0.70343515]]\n",
            "W\n",
            "[[ 0.70827088  0.27428613]\n",
            " [-1.10549004  0.96026758]\n",
            " [-1.07826651 -0.03718187]]\n",
            "B\n",
            "[-0.74705974 -0.12095274]\n",
            "Y\n",
            "[[-1.19141866  0.21747679]\n",
            " [ 4.08836992 -1.92751702]\n",
            " [-1.92016483  0.12562702]\n",
            " [-2.21783737 -0.53270883]]\n"
          ]
        }
      ]
    },
    {
      "cell_type": "code",
      "source": [
        "# Backward\n",
        "\n",
        "dL_dY = np.random.randn(4, 2)\n",
        "dL_dX = np.dot(dL_dY, W.T)\n",
        "dL_dW = np.dot(X.T, dL_dY)\n",
        "dL_dB = np.sum(dL_dY, axis=0)\n",
        "\n",
        "print(\"dL_dY\\n{}\".format(dL_dY))\n",
        "print(\"dL_dX\\n{}\".format(dL_dX))\n",
        "print(\"dL_dW\\n{}\".format(dL_dW))\n",
        "print(\"dL_dB\\n{}\".format(dL_dB))"
      ],
      "metadata": {
        "colab": {
          "base_uri": "https://localhost:8080/"
        },
        "id": "iQw4IkaRDJVi",
        "outputId": "743f148e-54e2-4756-a00c-1fd676676073"
      },
      "execution_count": 32,
      "outputs": [
        {
          "output_type": "stream",
          "name": "stdout",
          "text": [
            "dL_dY\n",
            "[[ 0.52022779 -0.94554121]\n",
            " [ 0.08811995 -0.1802554 ]\n",
            " [-0.3398219   0.68702022]\n",
            " [-0.96675292  1.53671958]]\n",
            "dL_dX\n",
            "[[ 0.10911335 -1.4830792  -0.52578721]\n",
            " [ 0.01297124 -0.27050914 -0.08831456]\n",
            " [-0.05224584  1.03539297  0.34087388]\n",
            " [-0.26322207  2.5443977   0.98527919]]\n",
            "dL_dW\n",
            "[[ 1.21385309 -2.08811923]\n",
            " [-0.04172368  0.18563457]\n",
            " [-1.02905303  1.70032276]]\n",
            "dL_dB\n",
            "[-0.69822708  1.09794319]\n"
          ]
        }
      ]
    },
    {
      "cell_type": "code",
      "source": [
        "class Layer():\n",
        "\n",
        "  def __init__(self):\n",
        "    self.W = np.random.randn(3, 2)\n",
        "    self.b = np.random.randn(2)\n",
        "    self.x = None\n",
        "    self.dW = None\n",
        "    self.db = None\n",
        "\n",
        "  def forward(self, x):\n",
        "    self.x = x\n",
        "    out = np.dot(x, self.W) + self.b\n",
        "    return out\n",
        "\n",
        "  def backward(self, dout):\n",
        "    dx = np.dot(dout, self.W.T)\n",
        "    self.dW = np.dot(self.x.T, dout)\n",
        "    self.db = np.sum(dout, axis=0)\n",
        "    return dx"
      ],
      "metadata": {
        "id": "JMyitr5vDy4B"
      },
      "execution_count": 33,
      "outputs": []
    },
    {
      "cell_type": "code",
      "source": [
        "np.random.seed(111)\n",
        "\n",
        "layer = Layer()\n"
      ],
      "metadata": {
        "id": "A7CIJLv-EVYH"
      },
      "execution_count": 34,
      "outputs": []
    },
    {
      "cell_type": "code",
      "source": [
        "X = np.random.randn(2, 3)\n",
        "Y = layer.forward(X)\n",
        "\n",
        "print(X)\n",
        "print(Y)"
      ],
      "metadata": {
        "colab": {
          "base_uri": "https://localhost:8080/"
        },
        "id": "lynrqwhdEZZ0",
        "outputId": "38f8a6c9-5a9d-4209-993c-a8422f7167a3"
      },
      "execution_count": 36,
      "outputs": [
        {
          "output_type": "stream",
          "name": "stdout",
          "text": [
            "[[-1.02796733 -0.09098625  0.492003  ]\n",
            " [ 0.4246722   1.28304882  0.31598645]]\n",
            "[[ 0.58274531 -0.9429515 ]\n",
            " [ 1.13062323 -0.79211313]]\n"
          ]
        }
      ]
    },
    {
      "cell_type": "code",
      "source": [
        "dout = np.random.randn(2, 2)\n",
        "dout_dx = layer.backward(dout)\n",
        "\n",
        "print(dout_dx)"
      ],
      "metadata": {
        "colab": {
          "base_uri": "https://localhost:8080/"
        },
        "id": "tqeLiTSHEgJz",
        "outputId": "0612159c-4365-4272-88d6-f8b61b44b8e1"
      },
      "execution_count": 38,
      "outputs": [
        {
          "output_type": "stream",
          "name": "stdout",
          "text": [
            "[[ 2.07827838 -2.66980572  1.09288421]\n",
            " [ 1.27235104 -1.31566939 -0.85570599]]\n"
          ]
        }
      ]
    },
    {
      "cell_type": "markdown",
      "source": [
        "#MNIST 분류 with 역전파"
      ],
      "metadata": {
        "id": "cA6FFGn6E08t"
      }
    },
    {
      "cell_type": "code",
      "source": [
        "import tensorflow as tf\n",
        "import numpy as np\n",
        "import matplotlib.pyplot as plt\n",
        "plt.style.use('seaborn-whitegrid')\n",
        "from collections import OrderedDict"
      ],
      "metadata": {
        "id": "9_73uMrtEsAD"
      },
      "execution_count": 128,
      "outputs": []
    },
    {
      "cell_type": "code",
      "source": [
        "np.random.seed(42)\n",
        "\n",
        "mnist = tf.keras.datasets.mnist\n",
        "\n",
        "(x_train, y_train), (x_test, y_test) = mnist.load_data()\n",
        "num_classes = 10"
      ],
      "metadata": {
        "id": "fjZcJjJgFDzY"
      },
      "execution_count": 134,
      "outputs": []
    },
    {
      "cell_type": "markdown",
      "source": [
        "#데이터 전처리"
      ],
      "metadata": {
        "id": "r15mkvLgFSB-"
      }
    },
    {
      "cell_type": "code",
      "source": [
        "x_train, x_test = x_train.reshape(-1, 28 * 28).astype(np.float32), x_test.reshape(-1, 28*28).astype(np.float32)\n",
        "\n",
        "x_train /= .255\n",
        "x_test /= .255\n",
        "\n",
        "y_train = np.eye(num_classes)[y_train]"
      ],
      "metadata": {
        "id": "KNKfpyOqFRP1"
      },
      "execution_count": 135,
      "outputs": []
    },
    {
      "cell_type": "code",
      "source": [
        "print(x_train.shape)\n",
        "print(y_train.shape)\n",
        "print(x_test.shape)\n",
        "print(y_test.shape)"
      ],
      "metadata": {
        "colab": {
          "base_uri": "https://localhost:8080/"
        },
        "id": "7tm6Hx_GFxN5",
        "outputId": "f4ca92b0-96de-48d5-9513-6e91ff6cfb17"
      },
      "execution_count": 136,
      "outputs": [
        {
          "output_type": "stream",
          "name": "stdout",
          "text": [
            "(60000, 784)\n",
            "(60000, 10)\n",
            "(10000, 784)\n",
            "(10000,)\n"
          ]
        }
      ]
    },
    {
      "cell_type": "markdown",
      "source": [
        "#Hyper parameter"
      ],
      "metadata": {
        "id": "8UhuzKwtF4JG"
      }
    },
    {
      "cell_type": "code",
      "source": [
        "epochs = 1000\n",
        "lr = 1e-3     # learning rate\n",
        "batch_size = 100\n",
        "train_size = x_train.shape[0]"
      ],
      "metadata": {
        "id": "hBJ3GK6OF3l5"
      },
      "execution_count": 137,
      "outputs": []
    },
    {
      "cell_type": "markdown",
      "source": [
        "#Util functions"
      ],
      "metadata": {
        "id": "kqEoyyiCGE94"
      }
    },
    {
      "cell_type": "code",
      "source": [
        "def softmax(x):\n",
        "  if x.ndim == 2:\n",
        "    x = x.T\n",
        "    x = x - np.max(x, axis=0)\n",
        "    y = np.exp(x) / np.sum(np.exp(x), axis=0)\n",
        "    return y.T\n",
        "\n",
        "  x = x - np.max(x)\n",
        "  return np.exp(x) / np.sum(np.exp(x))\n",
        "\n",
        "def MSE(pred_y, true_y):    # Mean Squared Error\n",
        "  return np.sum((pred_y - true_y)**2) / pred_y.shape[0]\n",
        "\n",
        "def CEE(pred_y, true_y):\n",
        "  if pred_y.ndim == 1:\n",
        "    true_y = true_y.reshape(1, true_y.size)\n",
        "    pred_y = pred_y.reshape(1, pred_y.size)\n",
        "\n",
        "  if true_y.size == pred_y.size:\n",
        "    true_y = true_y.argmax(axis=1)\n",
        "\n",
        "  batch_size = pred_y.shape[0]\n",
        "  return -np.sum(np.log(pred_y[np.arange(batch_size), true_y] + 1e-7)) / batch_size\n",
        "\n",
        "def softmax_loss(X, true_y):\n",
        "  pred_y = softmax(X)\n",
        "  return CEE(pred_y, true_y)\n",
        "\n"
      ],
      "metadata": {
        "id": "AuHUEHVdGEmm"
      },
      "execution_count": 138,
      "outputs": []
    },
    {
      "cell_type": "code",
      "source": [
        "class Sigmoid():\n",
        "  \n",
        "  def __init__(self):\n",
        "    self.out = None\n",
        "\n",
        "  def forward(self, x):\n",
        "    out = 1 / (1 + np.exp(-x))\n",
        "    return out\n",
        "\n",
        "  def backward(self, dout):\n",
        "    dx = dout * (1.0 - self.out) * self.dout\n",
        "    return dx"
      ],
      "metadata": {
        "id": "Xs7IEUTxGWhO"
      },
      "execution_count": 139,
      "outputs": []
    },
    {
      "cell_type": "code",
      "source": [
        "class ReLU():\n",
        "\n",
        "  def __init__(self):\n",
        "    self.out = None\n",
        "\n",
        "  def forward(self, x):\n",
        "    self.mask = (x < 0)\n",
        "    out = x.copy()\n",
        "    out[x<0] = 0\n",
        "    return out\n",
        "\n",
        "  def backward(self, dout):\n",
        "    dout[self.mask] = 0\n",
        "    dx = dout\n",
        "    return dx"
      ],
      "metadata": {
        "id": "TBGwclrvIQPz"
      },
      "execution_count": 140,
      "outputs": []
    },
    {
      "cell_type": "code",
      "source": [
        "class Layer():\n",
        "\n",
        "  def __init__(self, W, b):\n",
        "    self.W = W\n",
        "    self.b = b\n",
        "\n",
        "    self.x = None\n",
        "    self.origin_x_shape = None\n",
        "    \n",
        "    self.dL_dW = None\n",
        "    self.dL_db = None\n",
        "\n",
        "  def forward(self, x):\n",
        "    self.origin_x_shape = x.shape\n",
        "\n",
        "    x = x.reshape(x.shape[0], -1)\n",
        "    self.x = x\n",
        "    out = np.dot(self.x, self.W) + self.b\n",
        "    return out\n",
        "\n",
        "  def backward(self, dout):\n",
        "    dx = np.dot(dout, self.W.T)\n",
        "    self.dL_dW = np.dot(self.x.T, dout)\n",
        "    self.dL_db = np.sum(dout, axis=0)\n",
        "    dx = dx.reshape(*self.origin_x_shape)\n",
        "    return dx"
      ],
      "metadata": {
        "id": "RoUVJLxeITgV"
      },
      "execution_count": 141,
      "outputs": []
    },
    {
      "cell_type": "code",
      "source": [
        "class Softmax():\n",
        "\n",
        "  def __init__(self):\n",
        "    self.loss = None\n",
        "    self.y = None     # 최종 출력\n",
        "    self.t = None     # One hot encoding 정답 label\n",
        "\n",
        "  def forward(self, x, t):\n",
        "    self.t = t\n",
        "    self.y = softmax(x)\n",
        "    self.loss = CEE(self.y, self.t)\n",
        "\n",
        "    return self.loss\n",
        "\n",
        "  def backward(self, dout=1):\n",
        "    batch_size = self.t.shape[0]\n",
        "    \n",
        "    if self.t.size == self.y.size:\n",
        "      dx = (self.y - self.t) / batch_size\n",
        "    else:\n",
        "      dx = self.y.copy()\n",
        "      dx[np.arange(batch_size), self.t] -= 1\n",
        "      dx = dx / batch_size\n",
        "\n",
        "    return dx"
      ],
      "metadata": {
        "id": "jbeDxhsZIYAs"
      },
      "execution_count": 142,
      "outputs": []
    },
    {
      "cell_type": "code",
      "source": [
        "class MyModel():\n",
        "\n",
        "  def __init__(self, input_size, hidden_size_list, output_size, activation='relu'):\n",
        "    self.input_size = input_size\n",
        "    self.output_size = output_size\n",
        "    self.hidden_size_list = hidden_size_list\n",
        "    self.hidden_layer_num = len(hidden_size_list)\n",
        "    self.params = {}\n",
        "\n",
        "    self.__init_weights(activation)\n",
        "\n",
        "    activation_layer = {'sigmoid': Sigmoid, 'relu': ReLU}\n",
        "    self.layers = OrderedDict()\n",
        "    for idx in range(1, self.hidden_layer_num + 1): \n",
        "      self.layers['Layer' + str(idx)] = Layer(self.params['W' + str(idx)], self.params['b' + str(idx)])\n",
        "      self.layers['Activation_function' + str(idx)] = activation_layer[activation]()\n",
        "\n",
        "    idx = self.hidden_layer_num + 1\n",
        "\n",
        "    self.layers['Layer' + str(idx)] = Layer(self.params['W' + str(idx)], self.params['b' + str(idx)])\n",
        "\n",
        "    self.last_layer = Softmax()\n",
        "\n",
        "  def __init_weights(self, activation):\n",
        "    weight_std = None\n",
        "    all_size_list = [self.input_size] + self.hidden_size_list + [self.output_size]\n",
        "    \n",
        "    for idx in range(1, len(all_size_list)):\n",
        "      if activation.lower() == \"relu\":\n",
        "        weight_std = np.sqrt(2.0 / self.input_size) # 초기화 값\n",
        "      elif activation.lower() == \"sigmoid\":\n",
        "        weight_std = np.sqrt(1.0 / self.input_size) # 초기화 값\n",
        "\n",
        "      self.params['W' + str(idx)] = weight_std * np.random.randn(all_size_list[idx-1], all_size_list[idx])\n",
        "      self.params['b' + str(idx)] = np.random.randn(all_size_list[idx])\n",
        "\n",
        "  def predict(self, x):\n",
        "    for layer in self.layers.values():\n",
        "      x = layer.forward(x)\n",
        "\n",
        "    return x\n",
        "  \n",
        "  def loss(self, x, true_y):\n",
        "    pred_y = self.predict(x)\n",
        "\n",
        "    return self.last_layer.forward(pred_y, true_y)\n",
        "\n",
        "  def accuracy(self, x, true_y):\n",
        "    pred_y = self.predict(x)\n",
        "    pred_y = np.argmax(pred_y, axis=1)\n",
        "\n",
        "    if true_y.ndim != 1:\n",
        "      true_y = np.argmax(true_y, axis=1)\n",
        "\n",
        "    accuracy = np.sum(pred_y == true_y) / float(x.shape[0])\n",
        "    return accuracy\n",
        "\n",
        "  def gradient(self, x, t):\n",
        "    self.loss(x, t)\n",
        "\n",
        "    dout = 1\n",
        "    dout = self.last_layer.backward(dout)\n",
        "\n",
        "    layers = list(self.layers.values())\n",
        "    layers.reverse()\n",
        "    for layer in layers:\n",
        "      dout = layer.backward(dout)\n",
        "\n",
        "    grads = {}\n",
        "    for idx in range(1, self.hidden_layer_num + 2):\n",
        "      grads['W' + str(idx)] = self.layers['Layer' + str(idx)].dL_dW\n",
        "      grads['b' + str(idx)] = self.layers['Layer' + str(idx)].dL_db\n",
        "\n",
        "    return grads\n",
        "\n",
        "\n"
      ],
      "metadata": {
        "id": "9l7zkYpiJu34"
      },
      "execution_count": 143,
      "outputs": []
    },
    {
      "cell_type": "code",
      "source": [
        "# Model 생성 및 학습\n",
        "model = MyModel(28*28, [100, 64, 32], 10, activation='relu')"
      ],
      "metadata": {
        "id": "sWrq2_RINfCd"
      },
      "execution_count": 157,
      "outputs": []
    },
    {
      "cell_type": "code",
      "source": [
        "train_lost_list = list()\n",
        "train_acc_list = list()\n",
        "test_acc_list = list()"
      ],
      "metadata": {
        "id": "gQWUBMtHNoPU"
      },
      "execution_count": 158,
      "outputs": []
    },
    {
      "cell_type": "code",
      "source": [
        "for epoch in range(epochs):\n",
        "  batch_mask = np.random.choice(train_size, batch_size)\n",
        "  x_batch = x_train[batch_mask]\n",
        "  y_batch = y_train[batch_mask]\n",
        "\n",
        "  grad = model.gradient(x_batch, y_batch)\n",
        "\n",
        "  for key in model.params.keys():\n",
        "    model.params[key] -= lr * grad[key]\n",
        "\n",
        "  loss = model.loss(x_batch, y_batch)\n",
        "  train_lost_list.append(loss)\n",
        "\n",
        "  if epoch % 50 == 49:\n",
        "    train_acc = model.accuracy(x_train, y_train)\n",
        "    test_acc = model.accuracy(x_test, y_test)\n",
        "    train_acc_list.append(train_acc)\n",
        "    test_acc_list.append(test_acc)\n",
        "    print(\"Epoch: {}, Train Accuracy: {:.3f}, Test Accuracy: {:.3f}\".format(epoch + 1, train_acc, test_acc))"
      ],
      "metadata": {
        "colab": {
          "base_uri": "https://localhost:8080/"
        },
        "id": "OXxTdY6JN_Cy",
        "outputId": "902db38b-6ffa-4b47-c459-90e6b2d59aa6"
      },
      "execution_count": 159,
      "outputs": [
        {
          "output_type": "stream",
          "name": "stdout",
          "text": [
            "Epoch: 50, Train Accuracy: 0.545, Test Accuracy: 0.555\n",
            "Epoch: 100, Train Accuracy: 0.666, Test Accuracy: 0.674\n",
            "Epoch: 150, Train Accuracy: 0.724, Test Accuracy: 0.734\n",
            "Epoch: 200, Train Accuracy: 0.761, Test Accuracy: 0.764\n",
            "Epoch: 250, Train Accuracy: 0.790, Test Accuracy: 0.794\n",
            "Epoch: 300, Train Accuracy: 0.806, Test Accuracy: 0.809\n",
            "Epoch: 350, Train Accuracy: 0.819, Test Accuracy: 0.822\n",
            "Epoch: 400, Train Accuracy: 0.830, Test Accuracy: 0.834\n",
            "Epoch: 450, Train Accuracy: 0.837, Test Accuracy: 0.836\n",
            "Epoch: 500, Train Accuracy: 0.845, Test Accuracy: 0.847\n",
            "Epoch: 550, Train Accuracy: 0.851, Test Accuracy: 0.859\n",
            "Epoch: 600, Train Accuracy: 0.860, Test Accuracy: 0.860\n",
            "Epoch: 650, Train Accuracy: 0.863, Test Accuracy: 0.863\n",
            "Epoch: 700, Train Accuracy: 0.872, Test Accuracy: 0.872\n",
            "Epoch: 750, Train Accuracy: 0.872, Test Accuracy: 0.875\n",
            "Epoch: 800, Train Accuracy: 0.876, Test Accuracy: 0.877\n",
            "Epoch: 850, Train Accuracy: 0.879, Test Accuracy: 0.878\n",
            "Epoch: 900, Train Accuracy: 0.883, Test Accuracy: 0.884\n",
            "Epoch: 950, Train Accuracy: 0.884, Test Accuracy: 0.886\n",
            "Epoch: 1000, Train Accuracy: 0.888, Test Accuracy: 0.887\n"
          ]
        }
      ]
    },
    {
      "cell_type": "code",
      "source": [
        "plt.plot(np.arange(1000//50), train_acc_list, 'r--', label='train_acc')\n",
        "plt.plot(np.arange(1000//50), test_acc_list, 'b', label='test_acc')\n",
        "\n",
        "plt.title('Result')\n",
        "plt.xlabel('Epochs')\n",
        "plt.ylim(0, 1)\n",
        "plt.legend(loc=5)\n",
        "plt.grid()\n",
        "plt.show()"
      ],
      "metadata": {
        "colab": {
          "base_uri": "https://localhost:8080/",
          "height": 291
        },
        "id": "5S11t5TsOvN3",
        "outputId": "5d3cc2da-2d14-4046-9e9f-4beba38dc2e8"
      },
      "execution_count": 160,
      "outputs": [
        {
          "output_type": "display_data",
          "data": {
            "image/png": "[encoded data removed]",
            "text/plain": [
              "<Figure size 432x288 with 1 Axes>"
            ]
          },
          "metadata": {}
        }
      ]
    },
    {
      "cell_type": "code",
      "source": [
        "plt.plot(np.arange(1000), train_lost_list, 'g', label='train_loss')\n",
        "\n",
        "plt.title('Train Loss')\n",
        "plt.xlabel('Epochs')\n",
        "plt.legend(loc=5)\n",
        "plt.grid()\n",
        "plt.show()"
      ],
      "metadata": {
        "colab": {
          "base_uri": "https://localhost:8080/",
          "height": 291
        },
        "id": "CFa64xPTT0ox",
        "outputId": "aec04577-1be6-467c-a982-2120e28a4393"
      },
      "execution_count": 162,
      "outputs": [
        {
          "output_type": "display_data",
          "data": {
            "image/png": "[encoded data removed]",
            "text/plain": [
              "<Figure size 432x288 with 1 Axes>"
            ]
          },
          "metadata": {}
        }
      ]
    }
  ]
}