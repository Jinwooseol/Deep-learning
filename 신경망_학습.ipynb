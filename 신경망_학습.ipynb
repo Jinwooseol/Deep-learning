{
  "nbformat": 4,
  "nbformat_minor": 0,
  "metadata": {
    "colab": {
      "name": "신경망 학습.ipynb",
      "provenance": [],
      "collapsed_sections": [],
      "authorship_tag": "ABX9TyO9QBfEZ9CKoWnQhRoBY0Q6",
      "include_colab_link": true
    },
    "kernelspec": {
      "name": "python3",
      "display_name": "Python 3"
    },
    "language_info": {
      "name": "python"
    },
    "widgets": {
      "application/vnd.jupyter.widget-state+json": {
        "ec91ac9e759040b498fbfeeae4ec5c0c": {
          "model_module": "@jupyter-widgets/controls",
          "model_name": "HBoxModel",
          "model_module_version": "1.5.0",
          "state": {
            "_view_name": "HBoxView",
            "_dom_classes": [],
            "_model_name": "HBoxModel",
            "_view_module": "@jupyter-widgets/controls",
            "_model_module_version": "1.5.0",
            "_view_count": null,
            "_view_module_version": "1.5.0",
            "box_style": "",
            "layout": "IPY_MODEL_0014cf0d05ea46f09c357ef1f6926edd",
            "_model_module": "@jupyter-widgets/controls",
            "children": [
              "IPY_MODEL_1457536e8c464853809aa81e9a1089c3",
              "IPY_MODEL_04bd56d5f6344d749935e28850ad3474",
              "IPY_MODEL_63fbe32841394e968bfc20cb2c6f1a18"
            ]
          }
        },
        "0014cf0d05ea46f09c357ef1f6926edd": {
          "model_module": "@jupyter-widgets/base",
          "model_name": "LayoutModel",
          "model_module_version": "1.2.0",
          "state": {
            "_view_name": "LayoutView",
            "grid_template_rows": null,
            "right": null,
            "justify_content": null,
            "_view_module": "@jupyter-widgets/base",
            "overflow": null,
            "_model_module_version": "1.2.0",
            "_view_count": null,
            "flex_flow": null,
            "width": null,
            "min_width": null,
            "border": null,
            "align_items": null,
            "bottom": null,
            "_model_module": "@jupyter-widgets/base",
            "top": null,
            "grid_column": null,
            "overflow_y": null,
            "overflow_x": null,
            "grid_auto_flow": null,
            "grid_area": null,
            "grid_template_columns": null,
            "flex": null,
            "_model_name": "LayoutModel",
            "justify_items": null,
            "grid_row": null,
            "max_height": null,
            "align_content": null,
            "visibility": null,
            "align_self": null,
            "height": null,
            "min_height": null,
            "padding": null,
            "grid_auto_rows": null,
            "grid_gap": null,
            "max_width": null,
            "order": null,
            "_view_module_version": "1.2.0",
            "grid_template_areas": null,
            "object_position": null,
            "object_fit": null,
            "grid_auto_columns": null,
            "margin": null,
            "display": null,
            "left": null
          }
        },
        "1457536e8c464853809aa81e9a1089c3": {
          "model_module": "@jupyter-widgets/controls",
          "model_name": "HTMLModel",
          "model_module_version": "1.5.0",
          "state": {
            "_view_name": "HTMLView",
            "style": "IPY_MODEL_76a9d75d686243deb20c02b5b7f9cfdc",
            "_dom_classes": [],
            "description": "",
            "_model_name": "HTMLModel",
            "placeholder": "​",
            "_view_module": "@jupyter-widgets/controls",
            "_model_module_version": "1.5.0",
            "value": "100%",
            "_view_count": null,
            "_view_module_version": "1.5.0",
            "description_tooltip": null,
            "_model_module": "@jupyter-widgets/controls",
            "layout": "IPY_MODEL_d437b1e7ffa2431589b7583c26730480"
          }
        },
        "04bd56d5f6344d749935e28850ad3474": {
          "model_module": "@jupyter-widgets/controls",
          "model_name": "FloatProgressModel",
          "model_module_version": "1.5.0",
          "state": {
            "_view_name": "ProgressView",
            "style": "IPY_MODEL_c0b836d9fb374824a0d025c4acf775cf",
            "_dom_classes": [],
            "description": "",
            "_model_name": "FloatProgressModel",
            "bar_style": "success",
            "max": 2,
            "_view_module": "@jupyter-widgets/controls",
            "_model_module_version": "1.5.0",
            "value": 2,
            "_view_count": null,
            "_view_module_version": "1.5.0",
            "orientation": "horizontal",
            "min": 0,
            "description_tooltip": null,
            "_model_module": "@jupyter-widgets/controls",
            "layout": "IPY_MODEL_24d37cf91a414dfa8f1ae2f5499a0fcf"
          }
        },
        "63fbe32841394e968bfc20cb2c6f1a18": {
          "model_module": "@jupyter-widgets/controls",
          "model_name": "HTMLModel",
          "model_module_version": "1.5.0",
          "state": {
            "_view_name": "HTMLView",
            "style": "IPY_MODEL_8afa982951804aa2b1b638252554214e",
            "_dom_classes": [],
            "description": "",
            "_model_name": "HTMLModel",
            "placeholder": "​",
            "_view_module": "@jupyter-widgets/controls",
            "_model_module_version": "1.5.0",
            "value": " 2/2 [03:04&lt;00:00, 90.88s/it]",
            "_view_count": null,
            "_view_module_version": "1.5.0",
            "description_tooltip": null,
            "_model_module": "@jupyter-widgets/controls",
            "layout": "IPY_MODEL_7c99015125a746f18683c6acfa04c7e2"
          }
        },
        "76a9d75d686243deb20c02b5b7f9cfdc": {
          "model_module": "@jupyter-widgets/controls",
          "model_name": "DescriptionStyleModel",
          "model_module_version": "1.5.0",
          "state": {
            "_view_name": "StyleView",
            "_model_name": "DescriptionStyleModel",
            "description_width": "",
            "_view_module": "@jupyter-widgets/base",
            "_model_module_version": "1.5.0",
            "_view_count": null,
            "_view_module_version": "1.2.0",
            "_model_module": "@jupyter-widgets/controls"
          }
        },
        "d437b1e7ffa2431589b7583c26730480": {
          "model_module": "@jupyter-widgets/base",
          "model_name": "LayoutModel",
          "model_module_version": "1.2.0",
          "state": {
            "_view_name": "LayoutView",
            "grid_template_rows": null,
            "right": null,
            "justify_content": null,
            "_view_module": "@jupyter-widgets/base",
            "overflow": null,
            "_model_module_version": "1.2.0",
            "_view_count": null,
            "flex_flow": null,
            "width": null,
            "min_width": null,
            "border": null,
            "align_items": null,
            "bottom": null,
            "_model_module": "@jupyter-widgets/base",
            "top": null,
            "grid_column": null,
            "overflow_y": null,
            "overflow_x": null,
            "grid_auto_flow": null,
            "grid_area": null,
            "grid_template_columns": null,
            "flex": null,
            "_model_name": "LayoutModel",
            "justify_items": null,
            "grid_row": null,
            "max_height": null,
            "align_content": null,
            "visibility": null,
            "align_self": null,
            "height": null,
            "min_height": null,
            "padding": null,
            "grid_auto_rows": null,
            "grid_gap": null,
            "max_width": null,
            "order": null,
            "_view_module_version": "1.2.0",
            "grid_template_areas": null,
            "object_position": null,
            "object_fit": null,
            "grid_auto_columns": null,
            "margin": null,
            "display": null,
            "left": null
          }
        },
        "c0b836d9fb374824a0d025c4acf775cf": {
          "model_module": "@jupyter-widgets/controls",
          "model_name": "ProgressStyleModel",
          "model_module_version": "1.5.0",
          "state": {
            "_view_name": "StyleView",
            "_model_name": "ProgressStyleModel",
            "description_width": "",
            "_view_module": "@jupyter-widgets/base",
            "_model_module_version": "1.5.0",
            "_view_count": null,
            "_view_module_version": "1.2.0",
            "bar_color": null,
            "_model_module": "@jupyter-widgets/controls"
          }
        },
        "24d37cf91a414dfa8f1ae2f5499a0fcf": {
          "model_module": "@jupyter-widgets/base",
          "model_name": "LayoutModel",
          "model_module_version": "1.2.0",
          "state": {
            "_view_name": "LayoutView",
            "grid_template_rows": null,
            "right": null,
            "justify_content": null,
            "_view_module": "@jupyter-widgets/base",
            "overflow": null,
            "_model_module_version": "1.2.0",
            "_view_count": null,
            "flex_flow": null,
            "width": null,
            "min_width": null,
            "border": null,
            "align_items": null,
            "bottom": null,
            "_model_module": "@jupyter-widgets/base",
            "top": null,
            "grid_column": null,
            "overflow_y": null,
            "overflow_x": null,
            "grid_auto_flow": null,
            "grid_area": null,
            "grid_template_columns": null,
            "flex": null,
            "_model_name": "LayoutModel",
            "justify_items": null,
            "grid_row": null,
            "max_height": null,
            "align_content": null,
            "visibility": null,
            "align_self": null,
            "height": null,
            "min_height": null,
            "padding": null,
            "grid_auto_rows": null,
            "grid_gap": null,
            "max_width": null,
            "order": null,
            "_view_module_version": "1.2.0",
            "grid_template_areas": null,
            "object_position": null,
            "object_fit": null,
            "grid_auto_columns": null,
            "margin": null,
            "display": null,
            "left": null
          }
        },
        "8afa982951804aa2b1b638252554214e": {
          "model_module": "@jupyter-widgets/controls",
          "model_name": "DescriptionStyleModel",
          "model_module_version": "1.5.0",
          "state": {
            "_view_name": "StyleView",
            "_model_name": "DescriptionStyleModel",
            "description_width": "",
            "_view_module": "@jupyter-widgets/base",
            "_model_module_version": "1.5.0",
            "_view_count": null,
            "_view_module_version": "1.2.0",
            "_model_module": "@jupyter-widgets/controls"
          }
        },
        "7c99015125a746f18683c6acfa04c7e2": {
          "model_module": "@jupyter-widgets/base",
          "model_name": "LayoutModel",
          "model_module_version": "1.2.0",
          "state": {
            "_view_name": "LayoutView",
            "grid_template_rows": null,
            "right": null,
            "justify_content": null,
            "_view_module": "@jupyter-widgets/base",
            "overflow": null,
            "_model_module_version": "1.2.0",
            "_view_count": null,
            "flex_flow": null,
            "width": null,
            "min_width": null,
            "border": null,
            "align_items": null,
            "bottom": null,
            "_model_module": "@jupyter-widgets/base",
            "top": null,
            "grid_column": null,
            "overflow_y": null,
            "overflow_x": null,
            "grid_auto_flow": null,
            "grid_area": null,
            "grid_template_columns": null,
            "flex": null,
            "_model_name": "LayoutModel",
            "justify_items": null,
            "grid_row": null,
            "max_height": null,
            "align_content": null,
            "visibility": null,
            "align_self": null,
            "height": null,
            "min_height": null,
            "padding": null,
            "grid_auto_rows": null,
            "grid_gap": null,
            "max_width": null,
            "order": null,
            "_view_module_version": "1.2.0",
            "grid_template_areas": null,
            "object_position": null,
            "object_fit": null,
            "grid_auto_columns": null,
            "margin": null,
            "display": null,
            "left": null
          }
        }
      }
    }
  },
  "cells": [
    {
      "cell_type": "markdown",
      "metadata": {
        "id": "view-in-github",
        "colab_type": "text"
      },
      "source": [
        "<a href=\"https://colab.research.google.com/github/Jinwooseol/Deep-learning/blob/main/%EC%8B%A0%EA%B2%BD%EB%A7%9D_%ED%95%99%EC%8A%B5.ipynb\" target=\"_parent\"><img src=\"https://colab.research.google.com/assets/colab-badge.svg\" alt=\"Open In Colab\"/></a>"
      ]
    },
    {
      "cell_type": "markdown",
      "source": [
        "#신경망 학습\n",
        "Simple 신경망 구현: Logic Gate\n"
      ],
      "metadata": {
        "id": "sxQzPFpL-bMY"
      }
    },
    {
      "cell_type": "code",
      "source": [
        "#필요한 모듈 import\n",
        "import numpy as np\n",
        "import matplotlib.pyplot as plt\n",
        "plt.style.use('seaborn-whitegrid')"
      ],
      "metadata": {
        "id": "Abaw_J7v-jSf"
      },
      "execution_count": 2,
      "outputs": []
    },
    {
      "cell_type": "markdown",
      "source": [
        "#Hyper parameter\n",
        "- Epochs: 반복 횟수\n",
        "- Learning rate: 변화정도"
      ],
      "metadata": {
        "id": "DFy43xZp-h-L"
      }
    },
    {
      "cell_type": "code",
      "source": [
        "epochs = 1000\n",
        "lr = 0.1"
      ],
      "metadata": {
        "id": "oo3lq5Pi-bBv"
      },
      "execution_count": 3,
      "outputs": []
    },
    {
      "cell_type": "code",
      "execution_count": 6,
      "metadata": {
        "id": "om19oxXE-Wby"
      },
      "outputs": [],
      "source": [
        "#Util Functions\n",
        "def sigmoid(x):\n",
        "  return 1 / (1 + np.exp(-x))\n",
        "\n",
        "def MSE(pred_y, true_y):   # Mean Squared Error\n",
        "  return (np.sum(true_y - pred_y)**2) / pred_y.shape[0]\n",
        "\n",
        "def CEE(pred_y, true_y):        # Cross Entropy Error\n",
        "  if true_y.ndim == 1:\n",
        "    true_y = true_y.reshape(1, -1)\n",
        "    pred_y = pred_y.reshape(1, -1)\n",
        "\n",
        "  delta = 1e-7\n",
        "  return -np.sum(true_y * np.log(pred_y + delta))\n",
        "\n",
        "def CEE_for_batch(pred_y, true_y):\n",
        "  if true_y.ndim == 1:\n",
        "    true_y = true_y.reshape(1, -1)\n",
        "    pred_y = pred_y.reshape(1, -1)\n",
        "\n",
        "  delta = 1e-7\n",
        "  batch_size = pred_y.shape[0]\n",
        "  return -np.sum(true_y * np.log(pred_y + delta)) / batch_size\n",
        "\n",
        "def CEE_for_bin(pred_y, true_y):  #Cross Entropy Error for binary\n",
        "  return 0.5 * np.sum((-true_y * np.log(pred_y) - (1 - true_y) * np.log(1 - pred_y)))\n",
        "\n",
        "def softmax(a):\n",
        "  exp_a = np.exp(a)\n",
        "  sum_exp_a = np.sum(exp_a)\n",
        "  y = exp_a / sum_exp_a\n",
        "\n",
        "  return y\n",
        "\n",
        "def differential(f, x):\n",
        "  eps = 1e-5\n",
        "  diff_value = np.zeros_like(x)\n",
        "\n",
        "  for i in range(x.shape[0]):\n",
        "    temp_val = x[i]\n",
        "    x[i] = temp_val + eps\n",
        "    f_h1 = f(x)\n",
        "\n",
        "    x[i] = temp_val - eps\n",
        "    f_h2 = f(x)\n",
        "\n",
        "    diff_value[i] = (f_h1 - f_h2) / (2 * eps)\n",
        "    x[i] = temp_val\n",
        "\n",
        "  return diff_value"
      ]
    },
    {
      "cell_type": "markdown",
      "source": [
        "#신경망"
      ],
      "metadata": {
        "id": "f47Jh2OiBM5o"
      }
    },
    {
      "cell_type": "code",
      "source": [
        "class LogicGateNet():\n",
        "\n",
        "  def __init__(self):\n",
        "    def weight_init():  # weights, bias initialization\n",
        "      np.random.seed(1)\n",
        "      weights = np.random.randn(2)\n",
        "      bias = np.random.randn(1)\n",
        "\n",
        "      return weights, bias\n",
        "\n",
        "    self.weights, self.bias = weight_init()\n",
        "\n",
        "  def predict(self, x):\n",
        "    W = self.weights.reshape(-1, 1)\n",
        "    b = self.bias\n",
        "\n",
        "    pred_y = sigmoid(np.dot(x, W) + b)\n",
        "    return pred_y\n",
        "\n",
        "  def loss(self, x, true_y):\n",
        "    pred_y = self.predict(x)\n",
        "    return CEE_for_bin(pred_y, true_y)\n",
        "\n",
        "  def get_gradient(self, x, t):\n",
        "    def loss_grad(grad):\n",
        "      return self.loss(x, t)\n",
        "\n",
        "    grad_W = differential(loss_grad, self.weights)\n",
        "    grad_B = differential(loss_grad, self.bias)\n",
        "\n",
        "    return grad_W, grad_B"
      ],
      "metadata": {
        "id": "Yh3-_E6PA_vk"
      },
      "execution_count": 12,
      "outputs": []
    },
    {
      "cell_type": "markdown",
      "source": [
        "#AND Gate"
      ],
      "metadata": {
        "id": "hznSSBDbCmsf"
      }
    },
    {
      "cell_type": "code",
      "source": [
        "# Model 생성 및 학습\n",
        "AND = LogicGateNet()\n",
        "\n",
        "X = np.array([[0, 0], [0, 1], [1, 0], [1, 1]])\n",
        "Y = np.array([[0], [0], [0], [1]])\n",
        "\n",
        "train_loss_list = list()\n",
        "\n",
        "for i in range(epochs):\n",
        "  grad_W, grad_B = AND.get_gradient(X, Y)\n",
        "\n",
        "  AND.weights -= lr * grad_W\n",
        "  AND.bias -= lr * grad_B\n",
        "\n",
        "  loss = AND.loss(X, Y)\n",
        "  train_loss_list.append(loss)\n",
        "\n",
        "  if i % 100 == 99:\n",
        "    print(\"Epoch: {}, Cost: {}, Weights: {}, Bias: {}\".format(i+1, loss, AND.weights, AND.bias))"
      ],
      "metadata": {
        "colab": {
          "base_uri": "https://localhost:8080/"
        },
        "id": "wmfrOcEyCG2v",
        "outputId": "4d615423-48c7-4ef3-8f8c-80945bc0c58c"
      },
      "execution_count": 49,
      "outputs": [
        {
          "output_type": "stream",
          "name": "stdout",
          "text": [
            "Epoch: 100, Cost: 0.6577750894433896, Weights: [1.67482908 0.88530433], Bias: [-2.28862113]\n",
            "Epoch: 200, Cost: 0.47868977133966595, Weights: [2.09135904 1.77863168], Bias: [-3.18138225]\n",
            "Epoch: 300, Cost: 0.38199016604274594, Weights: [2.48831035 2.35058578], Bias: [-3.87281609]\n",
            "Epoch: 400, Cost: 0.3187565601477237, Weights: [2.84364946 2.77715285], Bias: [-4.4409907]\n",
            "Epoch: 500, Cost: 0.2734944624920833, Weights: [3.15762639 3.12296452], Bias: [-4.9246414]\n",
            "Epoch: 600, Cost: 0.23932824253066776, Weights: [3.43596333 3.41670603], Bias: [-5.34611966]\n",
            "Epoch: 700, Cost: 0.21258557987441473, Weights: [3.68466966 3.67338294], Bias: [-5.71968047]\n",
            "Epoch: 800, Cost: 0.1910811613144657, Weights: [3.90883856 3.90191691], Bias: [-6.05506817]\n",
            "Epoch: 900, Cost: 0.17341918260176764, Weights: [4.11255132 4.10813902], Bias: [-6.35928329]\n",
            "Epoch: 1000, Cost: 0.15866164667676708, Weights: [4.29903862 4.29613042], Bias: [-6.63754517]\n"
          ]
        }
      ]
    },
    {
      "cell_type": "markdown",
      "source": [
        "# Predict Test"
      ],
      "metadata": {
        "id": "00bdg5z7Evyw"
      }
    },
    {
      "cell_type": "code",
      "source": [
        "print(AND.predict(X))"
      ],
      "metadata": {
        "colab": {
          "base_uri": "https://localhost:8080/"
        },
        "id": "BX517LzGDxdO",
        "outputId": "3e879f12-2ec8-40e0-9cd3-55edb76acdc5"
      },
      "execution_count": 48,
      "outputs": [
        {
          "output_type": "stream",
          "name": "stdout",
          "text": [
            "[[0.00130853]\n",
            " [0.0877506 ]\n",
            " [0.08798368]\n",
            " [0.87627557]]\n"
          ]
        }
      ]
    },
    {
      "cell_type": "markdown",
      "source": [
        "#OR Gate"
      ],
      "metadata": {
        "id": "KErGYNsPE2bm"
      }
    },
    {
      "cell_type": "code",
      "source": [
        "OR = LogicGateNet()\n",
        "\n",
        "X = np.array([[0, 0], [0, 1], [1, 0], [1, 1]])\n",
        "Y_2 = np.array([[0], [1], [1], [1]])\n",
        "\n",
        "train_loss_list = list()\n",
        "\n",
        "for i in range(epochs):\n",
        "  grad_W, grad_B = OR.get_gradient(X, Y_2)\n",
        "\n",
        "  OR.weights -= lr * grad_W\n",
        "  OR.bias -= lr * grad_B\n",
        "\n",
        "  loss = OR.loss(X, Y_2)\n",
        "  train_loss_list.append(loss)\n",
        "\n",
        "  if i % 100 == 99:\n",
        "    print(\"Epoch: {}, Cost: {}, Weights: {}, Bias: {}\".format(i+1, loss, OR.weights, OR.bias))"
      ],
      "metadata": {
        "colab": {
          "base_uri": "https://localhost:8080/"
        },
        "id": "vcQGCyt_E4cE",
        "outputId": "7004c3ba-0ed5-41d4-ee82-45e6378d8e86"
      },
      "execution_count": 50,
      "outputs": [
        {
          "output_type": "stream",
          "name": "stdout",
          "text": [
            "Epoch: 100, Cost: 0.46966462715458934, Weights: [2.54994249 1.53146817], Bias: [-0.23756388]\n",
            "Epoch: 200, Cost: 0.3266420878925113, Weights: [3.0654972  2.48433435], Bias: [-0.73035494]\n",
            "Epoch: 300, Cost: 0.24939860658163646, Weights: [3.51580354 3.15251285], Bias: [-1.07599499]\n",
            "Epoch: 400, Cost: 0.2010254578313214, Weights: [3.90753746 3.66348045], Bias: [-1.33653642]\n",
            "Epoch: 500, Cost: 0.16790857594726685, Weights: [4.24924729 4.07584073], Bias: [-1.5458389]\n",
            "Epoch: 600, Cost: 0.14386201735355925, Weights: [4.54980861 4.42109728], Bias: [-1.72093619]\n",
            "Epoch: 700, Cost: 0.12564774324952763, Weights: [4.81676763 4.71787029], Bias: [-1.87147318]\n",
            "Epoch: 800, Cost: 0.11140046771464229, Weights: [5.05614319 4.97800846], Bias: [-2.0034682]\n",
            "Epoch: 900, Cost: 0.09996929350126772, Weights: [5.27265436 5.20949965], Bias: [-2.12094969]\n",
            "Epoch: 1000, Cost: 0.09060611328418659, Weights: [5.47000342 5.41797969], Bias: [-2.22675613]\n"
          ]
        }
      ]
    },
    {
      "cell_type": "markdown",
      "source": [
        "# Predict Test"
      ],
      "metadata": {
        "id": "-izuK5G-FV04"
      }
    },
    {
      "cell_type": "code",
      "source": [
        "print(OR.predict(X))"
      ],
      "metadata": {
        "colab": {
          "base_uri": "https://localhost:8080/"
        },
        "id": "WYzaKuJVFX9f",
        "outputId": "411dc5c1-2856-4f46-fffe-d897a5666913"
      },
      "execution_count": 18,
      "outputs": [
        {
          "output_type": "stream",
          "name": "stdout",
          "text": [
            "[[0.09737338]\n",
            " [0.96050267]\n",
            " [0.9624297 ]\n",
            " [0.99982686]]\n"
          ]
        }
      ]
    },
    {
      "cell_type": "markdown",
      "source": [
        "#NAND Gate"
      ],
      "metadata": {
        "id": "jVVTXxlEFof9"
      }
    },
    {
      "cell_type": "code",
      "source": [
        "# Model 생성 및 학습\n",
        "NAND = LogicGateNet()\n",
        "\n",
        "X = np.array([[0, 0], [0, 1], [1, 0], [1, 1]])\n",
        "Y_3 = np.array([[1], [1], [1], [0]])\n",
        "\n",
        "train_loss_list = list()\n",
        "\n",
        "for i in range(epochs):\n",
        "  grad_W, grad_B = NAND.get_gradient(X, Y_3)\n",
        "\n",
        "  NAND.weights -= lr * grad_W\n",
        "  NAND.bias -= lr * grad_B\n",
        "\n",
        "  loss = NAND.loss(X, Y_3)\n",
        "  train_loss_list.append(loss)\n",
        "\n",
        "  if i % 100 == 99:\n",
        "    print(\"Epoch: {}, Cost: {}, Weights: {}, Bias: {}\".format(i+1, loss, NAND.weights, NAND.bias))"
      ],
      "metadata": {
        "colab": {
          "base_uri": "https://localhost:8080/"
        },
        "id": "Q9ljobtaFqKE",
        "outputId": "2744f21c-afed-4033-889f-15e98393504d"
      },
      "execution_count": 51,
      "outputs": [
        {
          "output_type": "stream",
          "name": "stdout",
          "text": [
            "Epoch: 100, Cost: 0.824288748305992, Weights: [-0.40813162 -1.15743385], Bias: [1.62622569]\n",
            "Epoch: 200, Cost: 0.5578027743859468, Weights: [-1.46187375 -1.73868146], Bias: [2.70926709]\n",
            "Epoch: 300, Cost: 0.42989582787243724, Weights: [-2.10463937 -2.21939554], Bias: [3.50143234]\n",
            "Epoch: 400, Cost: 0.3513789539649579, Weights: [-2.57292664 -2.62562358], Bias: [4.13292997]\n",
            "Epoch: 500, Cost: 0.2972825383968322, Weights: [-2.94747465 -2.97382709], Bias: [4.66077837]\n",
            "Epoch: 600, Cost: 0.25748055791697105, Weights: [-3.26268809 -3.27683177], Bias: [5.11516759]\n",
            "Epoch: 700, Cost: 0.22689955273940252, Weights: [-3.53617405 -3.54422649], Bias: [5.51431484]\n",
            "Epoch: 800, Cost: 0.20265540741223503, Weights: [-3.77827069 -3.78308875], Bias: [5.87021703]\n",
            "Epoch: 900, Cost: 0.1829670479710293, Weights: [-3.99567763 -3.99868484], Bias: [6.19126741]\n",
            "Epoch: 1000, Cost: 0.1666679983329244, Weights: [-4.19305086 -4.19499713], Bias: [6.48360098]\n"
          ]
        }
      ]
    },
    {
      "cell_type": "markdown",
      "source": [
        "#Predict Test"
      ],
      "metadata": {
        "id": "yJL247uyF4UC"
      }
    },
    {
      "cell_type": "code",
      "source": [
        "print(NAND.predict(X))"
      ],
      "metadata": {
        "colab": {
          "base_uri": "https://localhost:8080/"
        },
        "id": "E7NG-m1ZF2kN",
        "outputId": "f77d6033-e347-4742-f148-9e11716520fa"
      },
      "execution_count": 20,
      "outputs": [
        {
          "output_type": "stream",
          "name": "stdout",
          "text": [
            "[[0.99847403]\n",
            " [0.90792881]\n",
            " [0.90809137]\n",
            " [0.12960599]]\n"
          ]
        }
      ]
    },
    {
      "cell_type": "markdown",
      "source": [
        "#XOR Gate"
      ],
      "metadata": {
        "id": "18M_crmGGB6i"
      }
    },
    {
      "cell_type": "code",
      "source": [
        "# Model 생성 및 학습\n",
        "XOR = LogicGateNet()\n",
        "\n",
        "X = np.array([[0, 0], [0, 1], [1, 0], [1, 1]])\n",
        "Y_4 = np.array([[0], [1], [1], [0]])\n",
        "\n",
        "train_loss_list = list()\n",
        "\n",
        "for i in range(epochs):\n",
        "  grad_W, grad_B = XOR.get_gradient(X, Y_4)\n",
        "\n",
        "  XOR.weights -= lr * grad_W\n",
        "  XOR.bias -= lr * grad_B\n",
        "\n",
        "  loss = XOR.loss(X, Y_4)\n",
        "  train_loss_list.append(loss)\n",
        "\n",
        "  if i % 100 == 99:\n",
        "    print(\"Epoch: {}, Cost: {}, Weights: {}, Bias: {}\".format(i+1, loss, XOR.weights, XOR.bias))"
      ],
      "metadata": {
        "colab": {
          "base_uri": "https://localhost:8080/"
        },
        "id": "eoi3pzCTGE1E",
        "outputId": "b6c942c7-3118-4b5d-e386-d3db699f7e56"
      },
      "execution_count": 52,
      "outputs": [
        {
          "output_type": "stream",
          "name": "stdout",
          "text": [
            "Epoch: 100, Cost: 1.4066709266956385, Weights: [ 0.55458224 -0.1127766 ], Bias: [-0.26306006]\n",
            "Epoch: 200, Cost: 1.3887878884306644, Weights: [0.19613306 0.00555485], Bias: [-0.11966087]\n",
            "Epoch: 300, Cost: 1.3866676758126297, Weights: [0.07299372 0.01879835], Bias: [-0.0544414]\n",
            "Epoch: 400, Cost: 1.386360043466884, Weights: [0.02858176 0.01317575], Bias: [-0.02476527]\n",
            "Epoch: 500, Cost: 1.3863070165433458, Weights: [0.01168694 0.00730766], Bias: [-0.01126515]\n",
            "Epoch: 600, Cost: 1.386296904064606, Weights: [0.00494248 0.00369764], Bias: [-0.0051242]\n",
            "Epoch: 700, Cost: 1.3862948811673228, Weights: [0.00214199 0.00178814], Bias: [-0.00233085]\n",
            "Epoch: 800, Cost: 1.3862944682279597, Weights: [0.00094414 0.00084356], Bias: [-0.00106023]\n",
            "Epoch: 900, Cost: 1.3862943832414318, Weights: [0.00042088 0.00039229], Bias: [-0.00048227]\n",
            "Epoch: 1000, Cost: 1.3862943656937712, Weights: [0.00018901 0.00018088], Bias: [-0.00021937]\n"
          ]
        }
      ]
    },
    {
      "cell_type": "markdown",
      "source": [
        "#Predict Test"
      ],
      "metadata": {
        "id": "t-bCDrFjImOy"
      }
    },
    {
      "cell_type": "code",
      "source": [
        "print(XOR.predict(X))"
      ],
      "metadata": {
        "colab": {
          "base_uri": "https://localhost:8080/"
        },
        "id": "bEL0Uh4TIjY_",
        "outputId": "35ee7698-c7a4-4a70-8d62-2be4c4a15795"
      },
      "execution_count": 41,
      "outputs": [
        {
          "output_type": "stream",
          "name": "stdout",
          "text": [
            "[[0.49994516]\n",
            " [0.49999038]\n",
            " [0.49999241]\n",
            " [0.50003763]]\n"
          ]
        }
      ]
    },
    {
      "cell_type": "markdown",
      "source": [
        "XOR은 loss (cost)가 일정 이하로 감소하지 않는다.\n",
        "-> 학습이 제대로 진행되지 않음\n",
        "\n",
        "따라서, XOR은 two-layer 신경망으로 구성\n",
        "- 얕은 신경망 (Shallow Neural Network)\n",
        "- 두 논리게이트 (NAND, OR)를 통과시키고 AND gate로 합쳐서 구현"
      ],
      "metadata": {
        "id": "n0bbNI2FF2Zj"
      }
    },
    {
      "cell_type": "code",
      "source": [
        "s1 = NAND.predict(X)\n",
        "s2 = OR.predict(X)\n",
        "X_2 = np.array([s1, s2]).T.reshape(-1, 2)"
      ],
      "metadata": {
        "id": "YRcJnINxEzmn"
      },
      "execution_count": 53,
      "outputs": []
    },
    {
      "cell_type": "markdown",
      "source": [
        "# Predict Test"
      ],
      "metadata": {
        "id": "lsjw33fvE4Kq"
      }
    },
    {
      "cell_type": "code",
      "source": [
        "print(AND.predict(X_2))"
      ],
      "metadata": {
        "colab": {
          "base_uri": "https://localhost:8080/"
        },
        "id": "UutSNNhNGylB",
        "outputId": "1b780abf-bed5-42be-bee5-bcca87c97693"
      },
      "execution_count": 55,
      "outputs": [
        {
          "output_type": "stream",
          "name": "stdout",
          "text": [
            "[[0.12711207]\n",
            " [0.80093056]\n",
            " [0.80235811]\n",
            " [0.14368961]]\n"
          ]
        }
      ]
    },
    {
      "cell_type": "markdown",
      "source": [
        "#Two-layer Neural Network으로 XOR Gate 구현\n",
        "- Class 구현"
      ],
      "metadata": {
        "id": "pa-5o0QTMinT"
      }
    },
    {
      "cell_type": "code",
      "source": [
        "class XORNet():\n",
        "\n",
        "  def __init__(self):\n",
        "    np.random.seed(1)\n",
        "\n",
        "    def weight_init():\n",
        "      params = {}\n",
        "      params['w_1'] = np.random.randn(2)\n",
        "      params['b_1'] = np.random.randn(2)\n",
        "      params['w_2'] = np.random.randn(2)\n",
        "      params['b_2'] = np.random.randn(1)\n",
        "      return params\n",
        "\n",
        "    self.params = weight_init()\n",
        "\n",
        "  def predict(self, x):\n",
        "    W_1, W_2 = self.params['w_1'].reshape(-1, 1), self.params['w_2'].reshape(-1, 1)\n",
        "    B_1, B_2 = self.params['b_1'], self.params['b_2']\n",
        "\n",
        "    A1 = np.dot(x, W_1) + B_1\n",
        "    Z1 = sigmoid(A1)\n",
        "    A2 = np.dot(Z1, W_2) + B_2\n",
        "    pred_y = sigmoid(A2)\n",
        "\n",
        "    return pred_y\n",
        "\n",
        "  def loss(self, x, true_y):\n",
        "    pred_y = self.predict(x)\n",
        "    return CEE_for_bin(pred_y, true_y)\n",
        "\n",
        "  def get_gradient(self, x, t):\n",
        "    def loss_grad(grad):\n",
        "      return self.loss(x, t)\n",
        "\n",
        "    grads = {}\n",
        "    grads['w_1'] = differential(loss_grad, self.params['w_1'])\n",
        "    grads['w_2'] = differential(loss_grad, self.params['w_2'])\n",
        "    grads['b_1'] = differential(loss_grad, self.params['b_1'])\n",
        "    grads['b_2'] = differential(loss_grad, self.params['b_2'])\n",
        "\n",
        "    return grads"
      ],
      "metadata": {
        "id": "MQ-FM2ncG84P"
      },
      "execution_count": 60,
      "outputs": []
    },
    {
      "cell_type": "markdown",
      "source": [
        "#Hyper Parameter"
      ],
      "metadata": {
        "id": "qucjpIjBN0Qd"
      }
    },
    {
      "cell_type": "code",
      "source": [
        "lr = 0.3"
      ],
      "metadata": {
        "id": "Xe47Q2lVNuuA"
      },
      "execution_count": 58,
      "outputs": []
    },
    {
      "cell_type": "code",
      "source": [
        "# Model 생성 및 학습\n",
        "XOR = XORNet()\n",
        "X = np.array([[0, 0], [0, 1], [1, 0], [1, 1]])\n",
        "Y_5 = np.array([[0], [1], [1], [0]])\n",
        "\n",
        "train_loss_list = list()\n",
        "\n",
        "for i in range(epochs):\n",
        "  grads = XOR.get_gradient(X, Y_5)\n",
        "\n",
        "  for key in ('w_1', 'w_2', 'b_1', 'b_2'):\n",
        "    XOR.params[key] -= lr * grads[key]\n",
        "\n",
        "  loss = XOR.loss(X, Y_5)\n",
        "  train_loss_list.append(loss)\n",
        "\n",
        "  if i % 100 == 99:\n",
        "    print(\"Epoch: {}, Cost: {}\".format(i+1, loss))"
      ],
      "metadata": {
        "colab": {
          "base_uri": "https://localhost:8080/"
        },
        "id": "JhxD6JpjOAPB",
        "outputId": "5e1a3b18-ea6b-4f22-9c8f-cfd0d58ba3d8"
      },
      "execution_count": 61,
      "outputs": [
        {
          "output_type": "stream",
          "name": "stdout",
          "text": [
            "Epoch: 100, Cost: 1.2038602915642662\n",
            "Epoch: 200, Cost: 0.4855625698005153\n",
            "Epoch: 300, Cost: 0.22618525574864715\n",
            "Epoch: 400, Cost: 0.1393840509844133\n",
            "Epoch: 500, Cost: 0.09906773228247678\n",
            "Epoch: 600, Cost: 0.07631544967924654\n",
            "Epoch: 700, Cost: 0.061847961217787135\n",
            "Epoch: 800, Cost: 0.05188916629519421\n",
            "Epoch: 900, Cost: 0.044637740488882555\n",
            "Epoch: 1000, Cost: 0.03913248217645088\n"
          ]
        }
      ]
    },
    {
      "cell_type": "markdown",
      "source": [
        "#Predict Test"
      ],
      "metadata": {
        "id": "G8fh4MnsPQ0Y"
      }
    },
    {
      "cell_type": "code",
      "source": [
        "print(XOR.predict(X))"
      ],
      "metadata": {
        "colab": {
          "base_uri": "https://localhost:8080/"
        },
        "id": "ctW4C2QZPTS8",
        "outputId": "370517ee-daeb-478c-b66b-d9c762f6c261"
      },
      "execution_count": 62,
      "outputs": [
        {
          "output_type": "stream",
          "name": "stdout",
          "text": [
            "[[0.01739414]\n",
            " [0.97447579]\n",
            " [0.98282956]\n",
            " [0.01738964]]\n"
          ]
        }
      ]
    },
    {
      "cell_type": "markdown",
      "source": [
        "#Multi Class Classification: MNIST Dataset\n",
        "미니 배치 학습법 (확률적 경사 하강법)\n",
        "- 학습 데이터 전제를 한번에 진행하지 않고, 일부 데이터(샘플)을 확률적으로 구해서 조금씩 나누어 진행"
      ],
      "metadata": {
        "id": "UgYM5g44Paxx"
      }
    },
    {
      "cell_type": "markdown",
      "source": [
        "신경망 구현: MNIST"
      ],
      "metadata": {
        "id": "lLwMgw1sPwDh"
      }
    },
    {
      "cell_type": "code",
      "source": [
        "import numpy as np\n",
        "import matplotlib.pyplot as plt\n",
        "import tensorflow as tf\n",
        "import time\n",
        "from tqdm.notebook import tqdm"
      ],
      "metadata": {
        "id": "zZmFfSnDPSwl"
      },
      "execution_count": 63,
      "outputs": []
    },
    {
      "cell_type": "code",
      "source": [
        "# Data Load\n",
        "mnist = tf.keras.datasets.mnist\n",
        "(x_train, y_train), (x_test, y_test) = mnist.load_data()"
      ],
      "metadata": {
        "colab": {
          "base_uri": "https://localhost:8080/"
        },
        "id": "Gd1l5ZrPQJ1U",
        "outputId": "3c30ef8c-594a-4c32-fd67-acebe7746737"
      },
      "execution_count": 64,
      "outputs": [
        {
          "output_type": "stream",
          "name": "stdout",
          "text": [
            "Downloading data from https://storage.googleapis.com/tensorflow/tf-keras-datasets/mnist.npz\n",
            "11493376/11490434 [==============================] - 0s 0us/step\n",
            "11501568/11490434 [==============================] - 0s 0us/step\n"
          ]
        }
      ]
    },
    {
      "cell_type": "code",
      "source": [
        "# Data 확인\n",
        "print(x_train.shape, y_train.shape)\n",
        "print(x_test.shape, y_test.shape)"
      ],
      "metadata": {
        "colab": {
          "base_uri": "https://localhost:8080/"
        },
        "id": "7wS3aMQ3QUyJ",
        "outputId": "e0968f00-6aaa-4eea-a68d-4775db12e033"
      },
      "execution_count": 67,
      "outputs": [
        {
          "output_type": "stream",
          "name": "stdout",
          "text": [
            "(60000, 28, 28) (60000,)\n",
            "(10000, 28, 28) (10000,)\n"
          ]
        }
      ]
    },
    {
      "cell_type": "code",
      "source": [
        "img = x_train[0]\n",
        "print(img.shape)\n",
        "\n",
        "plt.imshow(img, cmap='gray')\n",
        "plt.show()"
      ],
      "metadata": {
        "colab": {
          "base_uri": "https://localhost:8080/",
          "height": 281
        },
        "id": "rDLwq8i2QfQv",
        "outputId": "aa8c216b-788b-4196-84e9-30a34778e008"
      },
      "execution_count": 68,
      "outputs": [
        {
          "output_type": "stream",
          "name": "stdout",
          "text": [
            "(28, 28)\n"
          ]
        },
        {
          "output_type": "display_data",
          "data": {
            "image/png": "[encoded data removed]",
            "text/plain": [
              "<Figure size 432x288 with 1 Axes>"
            ]
          },
          "metadata": {}
        }
      ]
    },
    {
      "cell_type": "code",
      "source": [
        "print(y_train[0])"
      ],
      "metadata": {
        "colab": {
          "base_uri": "https://localhost:8080/"
        },
        "id": "5X7tZ7W4QsWJ",
        "outputId": "66b17fc5-3708-43b1-cbba-5b1133b6d0be"
      },
      "execution_count": 70,
      "outputs": [
        {
          "output_type": "stream",
          "name": "stdout",
          "text": [
            "5\n"
          ]
        }
      ]
    },
    {
      "cell_type": "markdown",
      "source": [
        "#데이터 전처리 (Data Preprocessing)"
      ],
      "metadata": {
        "id": "qLH0QpEIQwru"
      }
    },
    {
      "cell_type": "code",
      "source": [
        "def flatten_for_mnist(x):\n",
        "  temp = np.zeros((x.shape[0], x[0].size))\n",
        "\n",
        "  for idx, data in enumerate(x):\n",
        "    temp[idx, :] = data.flatten()\n",
        "\n",
        "  return temp"
      ],
      "metadata": {
        "id": "vuK3fcakQwYF"
      },
      "execution_count": 71,
      "outputs": []
    },
    {
      "cell_type": "code",
      "source": [
        "x_train, x_test = x_train / 255.0, x_test / 255.0\n",
        "\n",
        "x_train = flatten_for_mnist(x_train)\n",
        "x_test = flatten_for_mnist(x_test)\n",
        "\n",
        "print(x_train.shape, x_test.shape)\n",
        "\n",
        "y_train_ohe = tf.one_hot(y_train, depth=10).numpy() # One hot encoding\n",
        "y_test_ohe = tf.one_hot(y_test, depth=10).numpy()   # One hot encoding\n",
        "\n",
        "print(y_train_ohe.shape, y_test_ohe.shape)"
      ],
      "metadata": {
        "colab": {
          "base_uri": "https://localhost:8080/"
        },
        "id": "Kn5mCFnFRAhh",
        "outputId": "c9bcbd56-9b88-452e-edca-c938d72d8c66"
      },
      "execution_count": 78,
      "outputs": [
        {
          "output_type": "stream",
          "name": "stdout",
          "text": [
            "(60000, 784) (10000, 784)\n",
            "(60000, 10) (10000, 10)\n"
          ]
        }
      ]
    },
    {
      "cell_type": "code",
      "source": [
        "# Maximum, minimum 출력\n",
        "print(x_train[0].max(), x_train[0].min)\n",
        "print(y_train_ohe[0])"
      ],
      "metadata": {
        "colab": {
          "base_uri": "https://localhost:8080/"
        },
        "id": "cOX4rjNeRy0a",
        "outputId": "bc20e2c0-4089-4dfb-b08e-3a21d7173e48"
      },
      "execution_count": 79,
      "outputs": [
        {
          "output_type": "stream",
          "name": "stdout",
          "text": [
            "9.274683492658337e-13 <built-in method min of numpy.ndarray object at 0x7f35dba40690>\n",
            "[0. 0. 0. 0. 0. 1. 0. 0. 0. 0.]\n"
          ]
        }
      ]
    },
    {
      "cell_type": "markdown",
      "source": [
        "#Hyper parameter"
      ],
      "metadata": {
        "id": "yziLAejASB7o"
      }
    },
    {
      "cell_type": "code",
      "source": [
        "epochs = 2\n",
        "lr = 0.1\n",
        "batch_size = 100\n",
        "train_size = x_train.shape[0]"
      ],
      "metadata": {
        "id": "6JfmjtSdSDhu"
      },
      "execution_count": 80,
      "outputs": []
    },
    {
      "cell_type": "markdown",
      "source": [
        "#Util Functions"
      ],
      "metadata": {
        "id": "eNCx5ugWSKB_"
      }
    },
    {
      "cell_type": "code",
      "source": [
        "#Util Functions\n",
        "def sigmoid(x):\n",
        "  return 1 / (1 + np.exp(-x))\n",
        "\n",
        "def MSE(pred_y, true_y):   # Mean Squared Error\n",
        "  return (np.sum(true_y - pred_y)**2) / pred_y.shape[0]\n",
        "\n",
        "def CEE(pred_y, true_y):        # Cross Entropy Error\n",
        "  if true_y.ndim == 1:\n",
        "    true_y = true_y.reshape(1, -1)\n",
        "    pred_y = pred_y.reshape(1, -1)\n",
        "\n",
        "  delta = 1e-7\n",
        "  return -np.sum(true_y * np.log(pred_y + delta))\n",
        "\n",
        "def CEE_for_batch(pred_y, true_y):\n",
        "  if true_y.ndim == 1:\n",
        "    true_y = true_y.reshape(1, -1)\n",
        "    pred_y = pred_y.reshape(1, -1)\n",
        "\n",
        "  delta = 1e-7\n",
        "  batch_size = pred_y.shape[0]\n",
        "  return -np.sum(true_y * np.log(pred_y + delta)) / batch_size\n",
        "\n",
        "def CEE_for_bin(pred_y, true_y):  #Cross Entropy Error for binary\n",
        "  return 0.5 * np.sum((-true_y * np.log(pred_y) - (1 - true_y) * np.log(1 - pred_y)))\n",
        "\n",
        "def softmax(a):\n",
        "  exp_a = np.exp(a)\n",
        "  sum_exp_a = np.sum(exp_a)\n",
        "  y = exp_a / sum_exp_a\n",
        "\n",
        "  return y\n",
        "\n",
        "def differential(f, x):\n",
        "  eps = 1e-5\n",
        "  diff_value = np.zeros_like(x)\n",
        "\n",
        "  for i in range(x.shape[0]):\n",
        "    temp_val = x[i]\n",
        "    x[i] = temp_val + eps\n",
        "    f_h1 = f(x)\n",
        "\n",
        "    x[i] = temp_val - eps\n",
        "    f_h2 = f(x)\n",
        "\n",
        "    diff_value[i] = (f_h1 - f_h2) / (2 * eps)\n",
        "    x[i] = temp_val\n",
        "\n",
        "  return diff_value\n",
        "\n",
        "def differential_2d(f, X):\n",
        "  if X.ndim == 1:\n",
        "    return differential(f, X)\n",
        "  else:\n",
        "    grad = np.zeros_like(X)\n",
        "\n",
        "    for idx, x in enumerate(X):\n",
        "      grad[idx] = differential(f, x)\n",
        "\n",
        "    return grad\n",
        "  "
      ],
      "metadata": {
        "id": "O4Wnh5jgSMDO"
      },
      "execution_count": 84,
      "outputs": []
    },
    {
      "cell_type": "markdown",
      "source": [
        "#Two Layer Neural Network 구현"
      ],
      "metadata": {
        "id": "6Rpt_krOQr-P"
      }
    },
    {
      "cell_type": "code",
      "source": [
        "class MyModel():\n",
        "\n",
        "  def __init__(self):\n",
        "\n",
        "    def weight_init(input_nodes, hidden_nodes, output_units):\n",
        "      np.random.seed(777)\n",
        "      params = {}\n",
        "      params['w_1'] = 0.01 * np.random.randn(input_nodes, hidden_nodes)\n",
        "      params['b_1'] = np.zeros(hidden_nodes)\n",
        "      params['w_2'] = 0.01 * np.random.randn(hidden_nodes, output_units)\n",
        "      params['b_2'] = np.zeros(output_units)\n",
        "      return params\n",
        "\n",
        "    self.params = weight_init(784, 64, 10)\n",
        "\n",
        "  def predict(self, x):\n",
        "    W_1, W_2 = self.params['w_1'], self.params['w_2']\n",
        "    B_1, B_2 = self.params['b_1'], self.params['b_2']\n",
        "\n",
        "    A1 = np.dot(x, W_1) + B_1\n",
        "    Z1 = sigmoid(A1)\n",
        "\n",
        "    A2 = np.dot(Z1, W_2) + B_2\n",
        "    pred_y = softmax(A2)\n",
        "\n",
        "    return pred_y\n",
        "\n",
        "  def loss(self, x, true_y):\n",
        "    pred_y = self.predict(x)\n",
        "    return CEE_for_bin(pred_y, true_y)\n",
        "\n",
        "  def accuracy(self, x, true_y):\n",
        "    pred_y = self.predict(x)\n",
        "    y_argmax = np.argmax(pred_y, axis=1)\n",
        "    t_argmax = np.argmax(true_y, axis=1)\n",
        "\n",
        "    accuracy = np.sum(y_argmax == t_argmax) / float(x.shape[0])\n",
        "\n",
        "    return accuracy\n",
        "\n",
        "  def get_gradient(self, x, t):\n",
        "    def loss_grad(grad):\n",
        "      return self.loss(x, t)\n",
        "\n",
        "    grads = {}\n",
        "    grads['w_1'] = differential_2d(loss_grad, self.params['w_1'])\n",
        "    grads['w_2'] = differential_2d(loss_grad, self.params['w_2'])\n",
        "    grads['b_1'] = differential_2d(loss_grad, self.params['b_1'])\n",
        "    grads['b_2'] = differential_2d(loss_grad, self.params['b_2'])\n",
        "\n",
        "    return grads"
      ],
      "metadata": {
        "id": "fI2B3PgETU57"
      },
      "execution_count": 85,
      "outputs": []
    },
    {
      "cell_type": "code",
      "source": [
        "model = MyModel()\n",
        "\n",
        "train_loss_list = list()\n",
        "train_acc_list = list()\n",
        "test_acc_list = list()\n",
        "iter_per_epoch = max(train_size / batch_size, 1)\n",
        "\n",
        "start_time = time.time()    # 시간 측정\n",
        "for i in tqdm(range(epochs)):\n",
        "\n",
        "  batch_idx = np.random.choice(train_size, batch_size)  # 학습할 batch 선택\n",
        "  x_batch = x_train[batch_idx]\n",
        "  y_batch = y_train_ohe[batch_idx]\n",
        "\n",
        "  grads = model.get_gradient(x_batch, y_batch)  # 각 batch에 대한 gradient 계산\n",
        "\n",
        "  for key in grads.keys():\n",
        "    model.params[key] -= lr * grads[key]  # weight, bias update\n",
        "\n",
        "  loss = model.loss(x_batch, y_batch)     # loss 계산\n",
        "  train_loss_list.append(loss)            # loss 기록\n",
        "\n",
        "  #정확도 계산\n",
        "  train_accuracy = model.accuracy(x_train, y_train_ohe) \n",
        "  test_accuracy = model.accuracy(x_test, y_test_ohe)\n",
        "  train_acc_list.append(train_accuracy)\n",
        "  test_acc_list.append(test_accuracy)\n",
        "\n",
        "  print(\"Epoch: {}, Cost: {}, Train Accuracy: {}, Test Accuracy: {}\".format(i+1, loss, train_accuracy, test_accuracy))\n",
        "\n",
        "  end_time = time.time()\n",
        "\n",
        "  print(\"총 학습 소요시간: {:.3f}s\".format(end_time - start_time))\n",
        "                                                                            \n",
        "                                                                          "
      ],
      "metadata": {
        "colab": {
          "base_uri": "https://localhost:8080/",
          "height": 124,
          "referenced_widgets": [
            "ec91ac9e759040b498fbfeeae4ec5c0c",
            "0014cf0d05ea46f09c357ef1f6926edd",
            "1457536e8c464853809aa81e9a1089c3",
            "04bd56d5f6344d749935e28850ad3474",
            "63fbe32841394e968bfc20cb2c6f1a18",
            "76a9d75d686243deb20c02b5b7f9cfdc",
            "d437b1e7ffa2431589b7583c26730480",
            "c0b836d9fb374824a0d025c4acf775cf",
            "24d37cf91a414dfa8f1ae2f5499a0fcf",
            "8afa982951804aa2b1b638252554214e",
            "7c99015125a746f18683c6acfa04c7e2"
          ]
        },
        "id": "f30-8rwyUgDu",
        "outputId": "d1957912-17aa-43d5-c05f-1787e86f6908"
      },
      "execution_count": 86,
      "outputs": [
        {
          "output_type": "display_data",
          "data": {
            "application/vnd.jupyter.widget-view+json": {
              "model_id": "ec91ac9e759040b498fbfeeae4ec5c0c",
              "version_minor": 0,
              "version_major": 2
            },
            "text/plain": [
              "  0%|          | 0/2 [00:00<?, ?it/s]"
            ]
          },
          "metadata": {}
        },
        {
          "output_type": "stream",
          "name": "stdout",
          "text": [
            "Epoch: 1, Cost: 467.19329271774416, Train Accuracy: 0.10441666666666667, Test Accuracy: 0.1028\n",
            "총 학습 소요시간: 99.452s\n",
            "Epoch: 2, Cost: 752.8216563102583, Train Accuracy: 0.09751666666666667, Test Accuracy: 0.0974\n",
            "총 학습 소요시간: 184.332s\n"
          ]
        }
      ]
    },
    {
      "cell_type": "markdown",
      "source": [
        "#Model의 결과\n",
        "- 학습이 잘 되지 않을 수 있음\n",
        "- 만약, 학습이 잘 되지 않는다면, 학습이 잘 되기 위한 조치를 취해줘야 한다.\n"
      ],
      "metadata": {
        "id": "RPc85NxsN_vO"
      }
    },
    {
      "cell_type": "code",
      "source": [
        ""
      ],
      "metadata": {
        "id": "QXIfugbdN_Ob"
      },
      "execution_count": null,
      "outputs": []
    }
  ]
}