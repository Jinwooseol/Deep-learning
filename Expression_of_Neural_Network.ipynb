{
  "nbformat": 4,
  "nbformat_minor": 0,
  "metadata": {
    "colab": {
      "name": "Expression of Neural Network.ipynb",
      "provenance": [],
      "collapsed_sections": [],
      "authorship_tag": "ABX9TyO5WNWDMsJNBDq+wIu3Ey8M",
      "include_colab_link": true
    },
    "kernelspec": {
      "name": "python3",
      "display_name": "Python 3"
    },
    "language_info": {
      "name": "python"
    }
  },
  "cells": [
    {
      "cell_type": "markdown",
      "metadata": {
        "id": "view-in-github",
        "colab_type": "text"
      },
      "source": [
        "<a href=\"https://colab.research.google.com/github/Jinwooseol/Deep-learning/blob/main/Expression_of_Neural_Network.ipynb\" target=\"_parent\"><img src=\"https://colab.research.google.com/assets/colab-badge.svg\" alt=\"Open In Colab\"/></a>"
      ]
    },
    {
      "cell_type": "markdown",
      "source": [
        "#Expression of Neural Network Data"
      ],
      "metadata": {
        "id": "leamuLHylHpf"
      }
    },
    {
      "cell_type": "code",
      "execution_count": null,
      "metadata": {
        "id": "CYfF0LmTlBAi"
      },
      "outputs": [],
      "source": [
        "import numpy as np\n",
        "import matplotlib.pyplot as plt\n",
        "plt.style.use(['seaborn-whitegrid'])"
      ]
    },
    {
      "cell_type": "markdown",
      "source": [
        "#Tensor\n",
        "- 3차원 이상을 다룰 때 표현하는 방식\n",
        "- 여기서는 어떠한 데이터를 표현할 때, 그 값 모두를 tensor라고 부름"
      ],
      "metadata": {
        "id": "xEh0FVRUlas9"
      }
    },
    {
      "cell_type": "code",
      "source": [
        "a = np.array([1, 2])          # 1D\n",
        "b = np.array([[1, 2],          # 2D\n",
        "             [3, 4]])  \n",
        "c = np.array([10])            # 1D\n",
        "d = np.array(3)               # scalar value"
      ],
      "metadata": {
        "id": "MZwRnolMlZMH"
      },
      "execution_count": null,
      "outputs": []
    },
    {
      "cell_type": "markdown",
      "source": [
        "a, b, c, d 모두 tensor라 지칭 가능\n",
        "\n",
        "rank: tensor의 축을 나타내고 numpy의 ndim으로 구할 수 있음\n",
        "- 대괄호([])의 개수가 곧 rank의 값\n",
        "\n",
        "shape: tensor의 각 축을 따라 존재하는 차원의 수\n",
        "- python의 tuple형태"
      ],
      "metadata": {
        "id": "BGJzlyV5lbUK"
      }
    },
    {
      "cell_type": "code",
      "source": [
        "a = np.array([1, 2])          # 1D\n",
        "print(a)\n",
        "print(\"ndim = \", np.ndim(a))\n",
        "print(\"shape: \", a.shape)\n",
        "\n",
        "b = np.array([[1, 2],[3, 4]]) # 2D\n",
        "print(b)\n",
        "print(\"ndim = \", np.ndim(b))\n",
        "print(\"shape: \", b.shape)\n",
        "\n",
        "c = np.array([10])            # 1D\n",
        "print(c)\n",
        "print(\"ndim = \", np.ndim(c))\n",
        "print(\"shape: \", c.shape)\n",
        "\n",
        "d = np.array(3)               # scalar value\n",
        "print(d)\n",
        "print(\"ndim = \", np.ndim(d))\n",
        "print(\"shape: \", d.shape)"
      ],
      "metadata": {
        "colab": {
          "base_uri": "https://localhost:8080/"
        },
        "id": "fF2iPCpqmLgz",
        "outputId": "c11c2718-e731-48d6-e767-d69018fa98bb"
      },
      "execution_count": 8,
      "outputs": [
        {
          "output_type": "stream",
          "name": "stdout",
          "text": [
            "[1 2]\n",
            "ndim =  1\n",
            "shape:  (2,)\n",
            "[[1 2]\n",
            " [3 4]]\n",
            "ndim =  2\n",
            "shape:  (2, 2)\n",
            "[10]\n",
            "ndim =  1\n",
            "shape:  (1,)\n",
            "3\n",
            "ndim =  0\n",
            "shape:  ()\n"
          ]
        }
      ]
    },
    {
      "cell_type": "markdown",
      "source": [
        "#Scalar (0차원 tensor)\n",
        "- 하나의 숫자를 담고 있는 tensor\n",
        "- No shape"
      ],
      "metadata": {
        "id": "rPYTriQnlbWh"
      }
    },
    {
      "cell_type": "code",
      "source": [
        "x = np.array(10)\n",
        "print(x)\n",
        "print(\"shape: \", x.shape)\n",
        "print(\"ndim = \", np.ndim(x))"
      ],
      "metadata": {
        "colab": {
          "base_uri": "https://localhost:8080/"
        },
        "id": "i3x9ZEGenfEk",
        "outputId": "5e52b21f-7d9a-4875-979e-79b8c1326913"
      },
      "execution_count": 9,
      "outputs": [
        {
          "output_type": "stream",
          "name": "stdout",
          "text": [
            "10\n",
            "shape:  ()\n",
            "ndim =  0\n"
          ]
        }
      ]
    },
    {
      "cell_type": "markdown",
      "source": [
        "#Vector (1차원 tensor)\n",
        "- 숫자의 배열을 나타내는 tensor"
      ],
      "metadata": {
        "id": "q0Y6LRf04CHR"
      }
    },
    {
      "cell_type": "code",
      "source": [
        "x = np.array([1, 2, 3, 4])\n",
        "print(x)\n",
        "print(x.shape)\n",
        "print(np.ndim(x))"
      ],
      "metadata": {
        "id": "x9N5PxoQnkK8",
        "colab": {
          "base_uri": "https://localhost:8080/"
        },
        "outputId": "cbe79efa-007d-4202-e4ad-371c66996854"
      },
      "execution_count": 10,
      "outputs": [
        {
          "output_type": "stream",
          "name": "stdout",
          "text": [
            "[1 2 3 4]\n",
            "(4,)\n",
            "1\n"
          ]
        }
      ]
    },
    {
      "cell_type": "markdown",
      "source": [
        "#Sum of vectors\n",
        "- 같은 shape일 때, 각 원소별 계산"
      ],
      "metadata": {
        "id": "6N-JupXd4PL6"
      }
    },
    {
      "cell_type": "code",
      "source": [
        "a = np.array([1, 2, 3, 4])\n",
        "b = np.array([5, 6, 7, 8])\n",
        "c = a + b\n",
        "\n",
        "print(a)\n",
        "print(b)\n",
        "print(c)\n",
        "print(c.shape)\n",
        "print(np.ndim(c))"
      ],
      "metadata": {
        "colab": {
          "base_uri": "https://localhost:8080/"
        },
        "id": "ajSP0cN34Prp",
        "outputId": "8014467b-316e-460e-874b-bbbdd97d5d4f"
      },
      "execution_count": 13,
      "outputs": [
        {
          "output_type": "stream",
          "name": "stdout",
          "text": [
            "[1 2 3 4]\n",
            "[5 6 7 8]\n",
            "[ 6  8 10 12]\n",
            "(4,)\n",
            "1\n"
          ]
        }
      ]
    },
    {
      "cell_type": "markdown",
      "source": [
        "# Vector의 곱\n",
        "- $A = (x_1, x_2, x_3, ..., x_n)$,\n",
        "\n",
        "  $B = (y_1, y_2, y_3, ..., y_n)$ 일 때,\n",
        "\n",
        "원소곱\n",
        "- 같은 shape일 때, 각 원소별 계산\n",
        "- $A$ x $B = (x_1y_1, x_2y_2, x_3y_3, ..., x_ny_n)$\n",
        "\n",
        "벡터곱 (Product, dot)\n",
        "- 두 1차원 vector가 있을 때, 각각의 성분끼리의 곱을 모두 더함\n",
        "- $A\\cdot B ⇒ A$ x $B^T = (x_1y_1 + x_2y_2 + x_3y_3 + ... + x_ny_n)$"
      ],
      "metadata": {
        "id": "1LbnjGFq5Hbf"
      }
    },
    {
      "cell_type": "code",
      "source": [
        "a = np.array([1, 2, 3, 4])\n",
        "b = np.array([5, 6, 7, 8])\n",
        "c = a * b\n",
        "\n",
        "print(a)\n",
        "print(b)\n",
        "print(c)\n",
        "print(c.shape)\n",
        "print(np.ndim(c))\n",
        "print(\"-------------------\")\n",
        "d = np.dot(a, b)\n",
        "print(d)\n",
        "print(d.shape)\n",
        "print(np.ndim(d))"
      ],
      "metadata": {
        "colab": {
          "base_uri": "https://localhost:8080/"
        },
        "id": "AP_Fyz9Y4tHO",
        "outputId": "8730179c-d245-43d9-e56e-c2ac12eff39a"
      },
      "execution_count": 17,
      "outputs": [
        {
          "output_type": "stream",
          "name": "stdout",
          "text": [
            "[1 2 3 4]\n",
            "[5 6 7 8]\n",
            "[ 5 12 21 32]\n",
            "(4,)\n",
            "1\n",
            "-------------------\n",
            "70\n",
            "()\n",
            "0\n"
          ]
        }
      ]
    },
    {
      "cell_type": "markdown",
      "source": [
        "Scalar와 Vector의 곱"
      ],
      "metadata": {
        "id": "gZ8Pmbx8-J2b"
      }
    },
    {
      "cell_type": "code",
      "source": [
        "a = np.array(10)\n",
        "b = np.array([1, 2, 3])\n",
        "print(a*b)"
      ],
      "metadata": {
        "colab": {
          "base_uri": "https://localhost:8080/"
        },
        "id": "6BSAvc739sV5",
        "outputId": "d65d97b7-e07f-4ff5-c52b-3e011da4a8dc"
      },
      "execution_count": 18,
      "outputs": [
        {
          "output_type": "stream",
          "name": "stdout",
          "text": [
            "[10 20 30]\n"
          ]
        }
      ]
    },
    {
      "cell_type": "markdown",
      "source": [
        "# 2차원 Tensor (Matrix)"
      ],
      "metadata": {
        "id": "IfLrBlMd-X0i"
      }
    },
    {
      "cell_type": "code",
      "source": [
        "matrix = np.array([[1, 2, 3], \n",
        "                   [4, 5, 6]])\n",
        "print(\"matrix\")\n",
        "print(matrix)\n",
        "print(matrix.shape)\n",
        "print(np.ndim(matrix))\n",
        "\n",
        "print(\"-----------------------------\")\n",
        "print(\"matrix2\")\n",
        "matrix2 = np.array([[1, 2, 3, 4]])\n",
        "print(matrix2)\n",
        "print(matrix2.shape)\n",
        "print(np.ndim(matrix2))"
      ],
      "metadata": {
        "colab": {
          "base_uri": "https://localhost:8080/"
        },
        "id": "RQc3HKEd-WoR",
        "outputId": "93de3600-1c2d-481a-e4da-0de2917ae161"
      },
      "execution_count": 20,
      "outputs": [
        {
          "output_type": "stream",
          "name": "stdout",
          "text": [
            "matrix\n",
            "[[1 2 3]\n",
            " [4 5 6]]\n",
            "(2, 3)\n",
            "2\n",
            "-----------------------------\n",
            "matrix2\n",
            "[[1 2 3 4]]\n",
            "(1, 4)\n",
            "2\n"
          ]
        }
      ]
    },
    {
      "cell_type": "markdown",
      "source": [
        "Matrix 원소곱\n",
        "- 같은 shape일 때, 각 원소별 계산"
      ],
      "metadata": {
        "id": "5ib4twTD_Mkz"
      }
    },
    {
      "cell_type": "code",
      "source": [
        "A = np.array([[1, 2], [3, 4]])\n",
        "B = np.array([[5, 6], [7, 8]])\n",
        "\n",
        "print(\"Matrix A\\n\", A)\n",
        "print()\n",
        "print(\"Matrix B\\n\", B)\n",
        "print()\n",
        "print(\"A * B\\n\", A*B)"
      ],
      "metadata": {
        "colab": {
          "base_uri": "https://localhost:8080/"
        },
        "id": "JhsqMY-o_HZa",
        "outputId": "bb944bec-21f6-4e60-c654-6a60febf683d"
      },
      "execution_count": 24,
      "outputs": [
        {
          "output_type": "stream",
          "name": "stdout",
          "text": [
            "Matrix A\n",
            " [[1 2]\n",
            " [3 4]]\n",
            "\n",
            "Matrix B\n",
            " [[5 6]\n",
            " [7 8]]\n",
            "\n",
            "A * B\n",
            " [[ 5 12]\n",
            " [21 32]]\n"
          ]
        }
      ]
    },
    {
      "cell_type": "markdown",
      "source": [
        "#Dot product"
      ],
      "metadata": {
        "id": "FbXAJE1k_8lz"
      }
    },
    {
      "cell_type": "code",
      "source": [
        "A = np.array([[1, 2, 3], [3, 4, 5]])\n",
        "B = np.array([[5, 6], [7, 8], [9, 10]])\n",
        "\n",
        "print(\"Matrix A\\n\", A)\n",
        "print()\n",
        "print(\"Matrix B\\n\", B)\n",
        "print()\n",
        "C = np.dot(A, B)\n",
        "print(\"product of A and B\\n\", C)\n",
        "print(C.shape)\n",
        "print(np.ndim(C))"
      ],
      "metadata": {
        "colab": {
          "base_uri": "https://localhost:8080/"
        },
        "id": "XSE3vqQT_vcG",
        "outputId": "dee49340-e2a9-4b21-84ad-c99cbc6045a6"
      },
      "execution_count": 25,
      "outputs": [
        {
          "output_type": "stream",
          "name": "stdout",
          "text": [
            "Matrix A\n",
            " [[1 2 3]\n",
            " [3 4 5]]\n",
            "\n",
            "Matrix B\n",
            " [[ 5  6]\n",
            " [ 7  8]\n",
            " [ 9 10]]\n",
            "\n",
            "product of A and B\n",
            " [[ 46  52]\n",
            " [ 88 100]]\n",
            "(2, 2)\n",
            "2\n"
          ]
        }
      ]
    },
    {
      "cell_type": "markdown",
      "source": [
        "#Inverse Matrix\n",
        "- 어떤 matrix A가 있을 때, 곱해서 단위행렬(E)를 만드는 matrix B가 있다면 B는 A의 inverse matrix이다."
      ],
      "metadata": {
        "id": "6LTPi2iwAzjl"
      }
    },
    {
      "cell_type": "code",
      "source": [
        "A = np.array([[1, 2], [3, 4]])\n",
        "print(A)\n",
        "\n",
        "B = np.linalg.inv(A)\n",
        "print(B)\n",
        "\n",
        "E = np.dot(A, B)  # unit matrix\n",
        "print(E)"
      ],
      "metadata": {
        "colab": {
          "base_uri": "https://localhost:8080/"
        },
        "id": "U7QjARcDArCs",
        "outputId": "60df54c6-bf84-4085-a55d-f027848db971"
      },
      "execution_count": 30,
      "outputs": [
        {
          "output_type": "stream",
          "name": "stdout",
          "text": [
            "[[1 2]\n",
            " [3 4]]\n",
            "[[-2.   1. ]\n",
            " [ 1.5 -0.5]]\n",
            "[[1.0000000e+00 0.0000000e+00]\n",
            " [8.8817842e-16 1.0000000e+00]]\n"
          ]
        }
      ]
    },
    {
      "cell_type": "markdown",
      "source": [
        "#Transpose Matrix\n",
        "- Row와 column을 바꾼 matrix"
      ],
      "metadata": {
        "id": "FDWO1G6oBu0u"
      }
    },
    {
      "cell_type": "code",
      "source": [
        "matrix = np.array([[1, 2, 3], \n",
        "                   [4, 5, 6]])\n",
        "print(\"matrix\")\n",
        "print(matrix)\n",
        "print(\"shape: \", matrix.shape)\n",
        "print(\"ndim = \", np.ndim(matrix))\n",
        "\n",
        "print(\"-----------------------------\")\n",
        "print(\"transposed matrix\")\n",
        "matrix2 = matrix.T\n",
        "print(matrix2)\n",
        "print(\"shape: \", matrix2.shape)\n",
        "print(\"ndim = \", np.ndim(matrix2))"
      ],
      "metadata": {
        "colab": {
          "base_uri": "https://localhost:8080/"
        },
        "id": "drldaQl8BPK0",
        "outputId": "ab4eec9e-2d33-4452-f2d3-eab6832c95ba"
      },
      "execution_count": 33,
      "outputs": [
        {
          "output_type": "stream",
          "name": "stdout",
          "text": [
            "matrix\n",
            "[[1 2 3]\n",
            " [4 5 6]]\n",
            "shape:  (2, 3)\n",
            "ndim =  2\n",
            "-----------------------------\n",
            "transposed matrix\n",
            "[[1 4]\n",
            " [2 5]\n",
            " [3 6]]\n",
            "shape:  (3, 2)\n",
            "ndim =  2\n"
          ]
        }
      ]
    },
    {
      "cell_type": "markdown",
      "source": [
        "#3차원 Tensor\n",
        "- **Image**의 표현에서 사용 (width, height, channels)\n",
        "- 각 위치의 pixel에 대한 RGB값이 원소가 된다.\n",
        "\n",
        "\n",
        "- **Time serial data or sequence data**를 표현할 때 사용 (samples, timesteps, features)\n",
        "\n"
      ],
      "metadata": {
        "id": "98_3CT8pCW8w"
      }
    },
    {
      "cell_type": "code",
      "source": [
        "X = np.array([[[1, 2, 3, 4], [1, 3, 2, 4], [1, 4, 2, 3]], [[2, 3, 1, 4], [2, 4, 1, 3], [2, 4, 3, 1]]])\n",
        "\n",
        "print(\"X\\n\", X, end='\\n\\n')\n",
        "print(\"shape: \", X.shape)\n",
        "print(\"ndim = \", np.ndim(X))"
      ],
      "metadata": {
        "colab": {
          "base_uri": "https://localhost:8080/"
        },
        "id": "XBp46tylCEWh",
        "outputId": "371a9ce3-2bb6-4520-9aa7-cfca79901d88"
      },
      "execution_count": 34,
      "outputs": [
        {
          "output_type": "stream",
          "name": "stdout",
          "text": [
            "X\n",
            " [[[1 2 3 4]\n",
            "  [1 3 2 4]\n",
            "  [1 4 2 3]]\n",
            "\n",
            " [[2 3 1 4]\n",
            "  [2 4 1 3]\n",
            "  [2 4 3 1]]]\n",
            "\n",
            "shape:  (2, 3, 4)\n",
            "ndim =  3\n"
          ]
        }
      ]
    },
    {
      "cell_type": "code",
      "source": [
        "Y = np.array([[[1, 2, 3, 4], [1, 3, 2, 4], [1, 4, 2, 3]], [[2, 3, 1, 4], [2, 4, 1, 3], [2, 4, 3, 1]]])\n",
        "\n",
        "print(\"Y\\n\", Y, end='\\n\\n')\n",
        "print(\"shape: \", Y.shape)\n",
        "print(\"ndim = \", np.ndim(Y))\n",
        "\n",
        "print(\"-----------------------\\n\")\n",
        "Z = Y.T\n",
        "print(\"Transposed Y\\n\", Z, end='\\n\\n')\n",
        "print(\"shape: \", Z.shape)\n",
        "print(\"ndim = \", np.ndim(Z))"
      ],
      "metadata": {
        "colab": {
          "base_uri": "https://localhost:8080/"
        },
        "id": "8PYLU-l1D0M1",
        "outputId": "32d167a3-c90f-46a4-c5a2-81b4ccae886e"
      },
      "execution_count": 38,
      "outputs": [
        {
          "output_type": "stream",
          "name": "stdout",
          "text": [
            "Y\n",
            " [[[1 2 3 4]\n",
            "  [1 3 2 4]\n",
            "  [1 4 2 3]]\n",
            "\n",
            " [[2 3 1 4]\n",
            "  [2 4 1 3]\n",
            "  [2 4 3 1]]]\n",
            "\n",
            "shape:  (2, 3, 4)\n",
            "ndim =  3\n",
            "-----------------------\n",
            "\n",
            "Transposed Y\n",
            " [[[1 2]\n",
            "  [1 2]\n",
            "  [1 2]]\n",
            "\n",
            " [[2 3]\n",
            "  [3 4]\n",
            "  [4 4]]\n",
            "\n",
            " [[3 1]\n",
            "  [2 1]\n",
            "  [2 3]]\n",
            "\n",
            " [[4 4]\n",
            "  [4 3]\n",
            "  [3 1]]]\n",
            "\n",
            "shape:  (4, 3, 2)\n",
            "ndim =  3\n"
          ]
        }
      ]
    },
    {
      "cell_type": "markdown",
      "source": [
        "#3차원 Tensor 활용 (Image)\n",
        "- MNIST Dataset\n",
        "- 28x28 size의 gray scale images로 구성\n",
        "\n",
        "  (gray scale: 0 ~ 255의 값을 통해 밝기를 표현한 정도, 값이 클수록 밝아짐)"
      ],
      "metadata": {
        "id": "-S5y1qFlEVci"
      }
    },
    {
      "cell_type": "code",
      "source": [
        "from keras.datasets import mnist\n",
        "(train_images, train_labels), (test_images, test_labels) = mnist.load_data()  # keras에 있는 mnist로부터 image set data 받기"
      ],
      "metadata": {
        "colab": {
          "base_uri": "https://localhost:8080/"
        },
        "id": "9U6lsdUUEIsB",
        "outputId": "2d6d621d-0778-4e88-d23f-ba32ae8cdb7b"
      },
      "execution_count": 39,
      "outputs": [
        {
          "output_type": "stream",
          "name": "stdout",
          "text": [
            "Downloading data from https://storage.googleapis.com/tensorflow/tf-keras-datasets/mnist.npz\n",
            "11493376/11490434 [==============================] - 0s 0us/step\n",
            "11501568/11490434 [==============================] - 0s 0us/step\n"
          ]
        }
      ]
    },
    {
      "cell_type": "code",
      "source": [
        "print(train_images.ndim)"
      ],
      "metadata": {
        "colab": {
          "base_uri": "https://localhost:8080/"
        },
        "id": "mTXUjp8PGMJE",
        "outputId": "a6f0e518-2298-42d3-9f53-5c3492ebceea"
      },
      "execution_count": 40,
      "outputs": [
        {
          "output_type": "stream",
          "name": "stdout",
          "text": [
            "3\n"
          ]
        }
      ]
    },
    {
      "cell_type": "code",
      "source": [
        "print(train_images.shape)"
      ],
      "metadata": {
        "colab": {
          "base_uri": "https://localhost:8080/"
        },
        "id": "cPN4hviqGZpp",
        "outputId": "016a9f9f-c497-442e-c9c9-3afab77f2112"
      },
      "execution_count": 41,
      "outputs": [
        {
          "output_type": "stream",
          "name": "stdout",
          "text": [
            "(60000, 28, 28)\n"
          ]
        }
      ]
    },
    {
      "cell_type": "code",
      "source": [
        "print(train_images.dtype) # data type"
      ],
      "metadata": {
        "colab": {
          "base_uri": "https://localhost:8080/"
        },
        "id": "HcqIT8EVGb2m",
        "outputId": "7b3bc6fa-5afb-4a1c-e0aa-edf640dd2912"
      },
      "execution_count": 42,
      "outputs": [
        {
          "output_type": "stream",
          "name": "stdout",
          "text": [
            "uint8\n"
          ]
        }
      ]
    },
    {
      "cell_type": "code",
      "source": [
        "tmp_image = train_images[3]\n",
        "plt.imshow(tmp_image, cmap='gray')\n",
        "plt.show()"
      ],
      "metadata": {
        "colab": {
          "base_uri": "https://localhost:8080/",
          "height": 262
        },
        "id": "Ys2TzBjyGfGi",
        "outputId": "b719bb01-6e4f-458d-92b9-812d11dd50de"
      },
      "execution_count": 44,
      "outputs": [
        {
          "output_type": "display_data",
          "data": {
            "image/png": "[encoded data removed]",
            "text/plain": [
              "<Figure size 432x288 with 1 Axes>"
            ]
          },
          "metadata": {
            "needs_background": "light"
          }
        }
      ]
    },
    {
      "cell_type": "markdown",
      "source": [
        "#Broadcasting\n",
        "- Numpy에서 다른 shape를 가진 tensor끼리의 계산\n",
        "- 두 배열의 가장 마지막 축이 같거나 1인 경우에만 계산 가능\n",
        "\n",
        "  (Ex. (4 X 3) + (4)는 마지막 축이 3, 4으로 같지 않기 때문에 broadcasting 불가)\n",
        "\n",
        "\n",
        "\n",
        "[link text](https://numpy.org/doc/1.18/user/theory.broadcasting.html#array-broadcasting-in-numpy)"
      ],
      "metadata": {
        "id": "bpA17NbbGxaM"
      }
    },
    {
      "cell_type": "code",
      "source": [
        "a = np.array(10)\n",
        "b = np.array([10, 20, 30])\n",
        "print(np.dot(a, b))\n",
        "print(a * b)"
      ],
      "metadata": {
        "colab": {
          "base_uri": "https://localhost:8080/"
        },
        "id": "yPWxs92WGpk1",
        "outputId": "96eda445-2002-4b12-9b52-f39c40bd4bb0"
      },
      "execution_count": 45,
      "outputs": [
        {
          "output_type": "stream",
          "name": "stdout",
          "text": [
            "[100 200 300]\n",
            "[100 200 300]\n"
          ]
        }
      ]
    },
    {
      "cell_type": "code",
      "source": [
        "A = np.array([[1, 2], [3, 4]])\n",
        "B = np.array([10, 20])\n",
        "print(\"Matrix A\\n\", A)\n",
        "print()\n",
        "print(\"Matrix B\\n\", B)\n",
        "print()\n",
        "print(\"A * B\\n\", A * B)"
      ],
      "metadata": {
        "colab": {
          "base_uri": "https://localhost:8080/"
        },
        "id": "q_P6_hxyJJLX",
        "outputId": "7f71a886-e5e6-42ed-c6d8-b8e134198799"
      },
      "execution_count": 48,
      "outputs": [
        {
          "output_type": "stream",
          "name": "stdout",
          "text": [
            "Matrix A\n",
            " [[1 2]\n",
            " [3 4]]\n",
            "\n",
            "Matrix B\n",
            " [10 20]\n",
            "\n",
            "A * B\n",
            " [[10 40]\n",
            " [30 80]]\n"
          ]
        }
      ]
    },
    {
      "cell_type": "code",
      "source": [
        "A = np.array([[[1, 1, 1], [2, 2, 2]], [[3, 3, 3], [4, 4, 4]], [[5, 5, 5], [6, 6, 6]]])\n",
        "B = np.array([[10, 10, 10]])\n",
        "print(\"Matrix A\\n\", A)\n",
        "print(\"shape: \", A.shape)\n",
        "print()\n",
        "\n",
        "print(\"Matrix B\\n\", B)\n",
        "print(\"shape: \", B.shape)\n",
        "print()\n",
        "print(\"A * B\\n\", A * B)"
      ],
      "metadata": {
        "colab": {
          "base_uri": "https://localhost:8080/"
        },
        "id": "y1-fTCRvJbTV",
        "outputId": "655a4262-950f-4eb6-e010-b38c2a7daffa"
      },
      "execution_count": 51,
      "outputs": [
        {
          "output_type": "stream",
          "name": "stdout",
          "text": [
            "Matrix A\n",
            " [[[1 1 1]\n",
            "  [2 2 2]]\n",
            "\n",
            " [[3 3 3]\n",
            "  [4 4 4]]\n",
            "\n",
            " [[5 5 5]\n",
            "  [6 6 6]]]\n",
            "shape:  (3, 2, 3)\n",
            "\n",
            "Matrix B\n",
            " [[10 10 10]]\n",
            "shape:  (1, 3)\n",
            "\n",
            "A * B\n",
            " [[[10 10 10]\n",
            "  [20 20 20]]\n",
            "\n",
            " [[30 30 30]\n",
            "  [40 40 40]]\n",
            "\n",
            " [[50 50 50]\n",
            "  [60 60 60]]]\n"
          ]
        }
      ]
    },
    {
      "cell_type": "markdown",
      "source": [
        "#4, 5차원 Tensor\n",
        "- Color Image Datasets (4차원)\n",
        "  * samples, height, width, channels (Keras, Tensorflow)\n",
        "  * samples channels, height, width (Pytorch)\n",
        "\n",
        "- Videos (5차원)\n",
        "  * samples, frames, height, width, channels\n",
        "  * samples, frames, channels, height, width\n",
        "\n",
        "\n",
        "#Tensor shape 변환\n",
        "- reshape으로 변환가능\n",
        "- 원소의 수는 변환 전, 후로 같아야 함\n"
      ],
      "metadata": {
        "id": "O2SuOYXGKeZU"
      }
    },
    {
      "cell_type": "code",
      "source": [
        "A = np.array([[1, 2, 3], [4, 5, 6]])\n",
        "print(\"Matrix A \\n\", A)\n",
        "print(\"shape: \", A.shape)\n",
        "print(\"-----------------\\n\")\n",
        "A = A.reshape(3,2)\n",
        "print(\"Reshaped matrix A \\n\", A)\n",
        "print(\"shape: \", A.shape)"
      ],
      "metadata": {
        "colab": {
          "base_uri": "https://localhost:8080/"
        },
        "id": "Ci9I69ibKC5B",
        "outputId": "9289aecd-1d86-448b-f42c-6b04c2041da6"
      },
      "execution_count": 54,
      "outputs": [
        {
          "output_type": "stream",
          "name": "stdout",
          "text": [
            "Matrix A \n",
            " [[1 2 3]\n",
            " [4 5 6]]\n",
            "shape:  (2, 3)\n",
            "-----------------\n",
            "\n",
            "Reshaped matrix A \n",
            " [[1 2]\n",
            " [3 4]\n",
            " [5 6]]\n",
            "shape:  (3, 2)\n"
          ]
        }
      ]
    },
    {
      "cell_type": "code",
      "source": [
        "B = np.array([[[1, 2, 3], [4, 5, 6]], [[11, 12, 13], [14, 15, 16]]])\n",
        "print(\"Matrix B \\n\", B)\n",
        "print(\"shape: \", B.shape)\n",
        "print(\"-----------------\\n\")\n",
        "\n",
        "B = B.reshape(1, 1, 12)            # reshape\n",
        "print(\"Reshaped matrix B \\n\", B)\n",
        "print(\"shape: \", B.shape)\n",
        "print(\"-----------------\\n\")\n",
        "\n",
        "B = B.reshape(4, -1)            # auto reshape\n",
        "print(\"Reshaped matrix B \\n\", B)\n",
        "print(\"shape: \", B.shape)"
      ],
      "metadata": {
        "colab": {
          "base_uri": "https://localhost:8080/"
        },
        "id": "AxtalNpgKZ-Q",
        "outputId": "1dea02dd-27e1-48c7-f6e1-efe570479a4f"
      },
      "execution_count": 60,
      "outputs": [
        {
          "output_type": "stream",
          "name": "stdout",
          "text": [
            "Matrix B \n",
            " [[[ 1  2  3]\n",
            "  [ 4  5  6]]\n",
            "\n",
            " [[11 12 13]\n",
            "  [14 15 16]]]\n",
            "shape:  (2, 2, 3)\n",
            "-----------------\n",
            "\n",
            "Reshaped matrix B \n",
            " [[[ 1  2  3  4  5  6 11 12 13 14 15 16]]]\n",
            "shape:  (1, 1, 12)\n",
            "-----------------\n",
            "\n",
            "Reshaped matrix B \n",
            " [[ 1  2  3]\n",
            " [ 4  5  6]\n",
            " [11 12 13]\n",
            " [14 15 16]]\n",
            "shape:  (4, 3)\n"
          ]
        }
      ]
    }
  ]
}