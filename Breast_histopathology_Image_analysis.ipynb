{
  "cells": [
    {
      "cell_type": "markdown",
      "metadata": {
        "id": "view-in-github",
        "colab_type": "text"
      },
      "source": [
        "<a href=\"https://colab.research.google.com/github/Jinwooseol/Deep-learning/blob/main/Breast_histopathology_Image_analysis.ipynb\" target=\"_parent\"><img src=\"https://colab.research.google.com/assets/colab-badge.svg\" alt=\"Open In Colab\"/></a>"
      ]
    },
    {
      "cell_type": "markdown",
      "metadata": {
        "id": "Vy0TNDdZ1QDV"
      },
      "source": [
        "# Breast Histopathology Images Dataset\n",
        "- 대략 277,524개의 유방 조직병리학 (Breast Histopathology) 이미지를 가지고 있다.\n",
        "- 해당 이미지들은 유방암 조직의 mount slide 이미지에서 추출하였다.\n",
        "- 78,786건의 positive tests와 198,738건의 negative tests를 포함하고 있다.\n",
        "- 이미지를 통한 유방암 예측 모델 디자인에 사용할 수 있다.\n",
        "- Data Link: https://www.kaggle.com/datasets/paultimothymooney/breast-histopathology-images\n",
        "- Referece: \n",
        "  - https://pubmed.ncbi.nlm.nih.gov/27563488/\n",
        "  - https://spie.org/Publications/Proceedings/Paper/10.1117/12.2043872?SSO=1\n"
      ]
    },
    {
      "cell_type": "markdown",
      "metadata": {
        "id": "MwZDP29nrBKt"
      },
      "source": [
        "# Convolutional Nerual Network\n"
      ]
    },
    {
      "cell_type": "markdown",
      "metadata": {
        "id": "6FuUVDWDLSNn"
      },
      "source": [
        "# Set up"
      ]
    },
    {
      "cell_type": "code",
      "execution_count": 1,
      "metadata": {
        "id": "f-Krq2jIJKkF"
      },
      "outputs": [],
      "source": [
        "import numpy as np\n",
        "import pandas as pd\n",
        "\n",
        "import matplotlib.pyplot as plt\n",
        "import matplotlib.image as plt_img\n",
        "import tensorflow as tf\n",
        "from tensorflow import keras\n",
        "from tensorflow.keras import layers\n",
        "\n",
        "from sklearn.model_selection import train_test_split\n",
        "\n",
        "from os import listdir"
      ]
    },
    {
      "cell_type": "markdown",
      "metadata": {
        "id": "hfv9aOq0Yzl5"
      },
      "source": [
        "# Load a dataset"
      ]
    },
    {
      "cell_type": "code",
      "execution_count": 2,
      "metadata": {
        "colab": {
          "base_uri": "https://localhost:8080/"
        },
        "id": "04tpTgnjY2KR",
        "outputId": "ef2f64c1-02de-4fb6-b6ac-94b425e01516"
      },
      "outputs": [
        {
          "output_type": "stream",
          "name": "stdout",
          "text": [
            "['8950', '8918', '8916', '8917', '8951']\n",
            "3910\n"
          ]
        }
      ],
      "source": [
        "base = '/content/drive/MyDrive/인공지능 학습/Project/Breast Cancer/Breast_cancer_data'\n",
        "files = listdir(base)\n",
        "print(files)\n",
        "\n",
        "image_data = np.empty([3910, 50, 50, 3])\n",
        "y = []\n",
        "i = 0\n",
        "for f in files:\n",
        "  patient_id = f\n",
        "  patient_path = base + '/' + patient_id\n",
        "  for target in range(2):\n",
        "    class_path = patient_path + '/' + str(target)\n",
        "    for image in listdir(class_path):\n",
        "      image_data[i] = plt_img.imread(class_path + '/' + image)\n",
        "      y.append(target)\n",
        "      i += 1\n",
        "\n",
        "print(len(image_data))"
      ]
    },
    {
      "cell_type": "code",
      "source": [
        "print(image_data.shape)\n",
        "y = np.array(y)"
      ],
      "metadata": {
        "colab": {
          "base_uri": "https://localhost:8080/"
        },
        "id": "HnnAxLh949Nm",
        "outputId": "04bcaf00-61fc-4a24-ac23-29f299e11c38"
      },
      "execution_count": 3,
      "outputs": [
        {
          "output_type": "stream",
          "name": "stdout",
          "text": [
            "(3910, 50, 50, 3)\n"
          ]
        }
      ]
    },
    {
      "cell_type": "code",
      "execution_count": 5,
      "metadata": {
        "id": "Qpx8LyMoIy4t",
        "colab": {
          "base_uri": "https://localhost:8080/"
        },
        "outputId": "0eae2383-f70b-402d-d9ce-55edc11e59a5"
      },
      "outputs": [
        {
          "output_type": "stream",
          "name": "stdout",
          "text": [
            "(2932, 50, 50, 3) (2932,)\n",
            "Epoch 1/40\n",
            "92/92 [==============================] - 2s 15ms/step - loss: 0.5476 - accuracy: 0.7408\n",
            "Epoch 2/40\n",
            "92/92 [==============================] - 2s 17ms/step - loss: 0.4892 - accuracy: 0.7408\n",
            "Epoch 3/40\n",
            "92/92 [==============================] - 1s 12ms/step - loss: 0.4659 - accuracy: 0.7408\n",
            "Epoch 4/40\n",
            "92/92 [==============================] - 1s 12ms/step - loss: 0.4759 - accuracy: 0.7578\n",
            "Epoch 5/40\n",
            "92/92 [==============================] - 1s 12ms/step - loss: 0.4490 - accuracy: 0.7674\n",
            "Epoch 6/40\n",
            "92/92 [==============================] - 1s 12ms/step - loss: 0.4230 - accuracy: 0.7940\n",
            "Epoch 7/40\n",
            "92/92 [==============================] - 1s 12ms/step - loss: 0.4342 - accuracy: 0.8005\n",
            "Epoch 8/40\n",
            "92/92 [==============================] - 1s 12ms/step - loss: 0.4091 - accuracy: 0.8104\n",
            "Epoch 9/40\n",
            "92/92 [==============================] - 1s 12ms/step - loss: 0.4092 - accuracy: 0.8138\n",
            "Epoch 10/40\n",
            "92/92 [==============================] - 1s 12ms/step - loss: 0.4106 - accuracy: 0.8158\n",
            "Epoch 11/40\n",
            "92/92 [==============================] - 1s 12ms/step - loss: 0.4059 - accuracy: 0.8138\n",
            "Epoch 12/40\n",
            "92/92 [==============================] - 1s 12ms/step - loss: 0.3817 - accuracy: 0.8271\n",
            "Epoch 13/40\n",
            "92/92 [==============================] - 1s 12ms/step - loss: 0.3866 - accuracy: 0.8172\n",
            "Epoch 14/40\n",
            "92/92 [==============================] - 1s 12ms/step - loss: 0.3611 - accuracy: 0.8380\n",
            "Epoch 15/40\n",
            "92/92 [==============================] - 1s 12ms/step - loss: 0.3566 - accuracy: 0.8438\n",
            "Epoch 16/40\n",
            "92/92 [==============================] - 1s 12ms/step - loss: 0.3472 - accuracy: 0.8428\n",
            "Epoch 17/40\n",
            "92/92 [==============================] - 1s 12ms/step - loss: 0.3258 - accuracy: 0.8571\n",
            "Epoch 18/40\n",
            "92/92 [==============================] - 1s 12ms/step - loss: 0.3172 - accuracy: 0.8612\n",
            "Epoch 19/40\n",
            "92/92 [==============================] - 1s 12ms/step - loss: 0.3215 - accuracy: 0.8564\n",
            "Epoch 20/40\n",
            "92/92 [==============================] - 1s 12ms/step - loss: 0.3453 - accuracy: 0.8462\n",
            "Epoch 21/40\n",
            "92/92 [==============================] - 1s 12ms/step - loss: 0.3119 - accuracy: 0.8615\n",
            "Epoch 22/40\n",
            "92/92 [==============================] - 1s 12ms/step - loss: 0.3085 - accuracy: 0.8663\n",
            "Epoch 23/40\n",
            "92/92 [==============================] - 1s 12ms/step - loss: 0.2834 - accuracy: 0.8772\n",
            "Epoch 24/40\n",
            "92/92 [==============================] - 1s 14ms/step - loss: 0.2570 - accuracy: 0.8834\n",
            "Epoch 25/40\n",
            "92/92 [==============================] - 1s 14ms/step - loss: 0.2580 - accuracy: 0.8888\n",
            "Epoch 26/40\n",
            "92/92 [==============================] - 1s 12ms/step - loss: 0.2337 - accuracy: 0.9052\n",
            "Epoch 27/40\n",
            "92/92 [==============================] - 1s 12ms/step - loss: 0.2104 - accuracy: 0.9164\n",
            "Epoch 28/40\n",
            "92/92 [==============================] - 1s 12ms/step - loss: 0.2065 - accuracy: 0.9175\n",
            "Epoch 29/40\n",
            "92/92 [==============================] - 1s 12ms/step - loss: 0.1968 - accuracy: 0.9236\n",
            "Epoch 30/40\n",
            "92/92 [==============================] - 1s 12ms/step - loss: 0.2261 - accuracy: 0.9117\n",
            "Epoch 31/40\n",
            "92/92 [==============================] - 1s 12ms/step - loss: 0.1877 - accuracy: 0.9260\n",
            "Epoch 32/40\n",
            "92/92 [==============================] - 1s 12ms/step - loss: 0.1573 - accuracy: 0.9345\n",
            "Epoch 33/40\n",
            "92/92 [==============================] - 1s 12ms/step - loss: 0.1279 - accuracy: 0.9492\n",
            "Epoch 34/40\n",
            "92/92 [==============================] - 1s 12ms/step - loss: 0.1309 - accuracy: 0.9512\n",
            "Epoch 35/40\n",
            "92/92 [==============================] - 1s 12ms/step - loss: 0.1281 - accuracy: 0.9499\n",
            "Epoch 36/40\n",
            "92/92 [==============================] - 1s 12ms/step - loss: 0.0933 - accuracy: 0.9673\n",
            "Epoch 37/40\n",
            "92/92 [==============================] - 1s 12ms/step - loss: 0.0998 - accuracy: 0.9659\n",
            "Epoch 38/40\n",
            "92/92 [==============================] - 1s 12ms/step - loss: 0.0688 - accuracy: 0.9789\n",
            "Epoch 39/40\n",
            "92/92 [==============================] - 1s 12ms/step - loss: 0.0885 - accuracy: 0.9734\n",
            "Epoch 40/40\n",
            "92/92 [==============================] - 1s 12ms/step - loss: 0.0744 - accuracy: 0.9782\n",
            "31/31 [==============================] - 0s 10ms/step - loss: 0.7911 - accuracy: 0.8272\n",
            "[0.7910825610160828, 0.8271983861923218]\n",
            "Model: \"mymodel_1\"\n",
            "_________________________________________________________________\n",
            " Layer (type)                Output Shape              Param #   \n",
            "=================================================================\n",
            " conv2d_2 (Conv2D)           multiple                  7168      \n",
            "                                                                 \n",
            " max_pooling2d_2 (MaxPooling  multiple                 0         \n",
            " 2D)                                                             \n",
            "                                                                 \n",
            " conv2d_3 (Conv2D)           multiple                  295040    \n",
            "                                                                 \n",
            " max_pooling2d_3 (MaxPooling  multiple                 0         \n",
            " 2D)                                                             \n",
            "                                                                 \n",
            " flatten_1 (Flatten)         multiple                  0         \n",
            "                                                                 \n",
            " dense_3 (Dense)             multiple                  991296    \n",
            "                                                                 \n",
            " dense_4 (Dense)             multiple                  4160      \n",
            "                                                                 \n",
            " dense_5 (Dense)             multiple                  65        \n",
            "                                                                 \n",
            "=================================================================\n",
            "Total params: 1,297,729\n",
            "Trainable params: 1,297,729\n",
            "Non-trainable params: 0\n",
            "_________________________________________________________________\n"
          ]
        }
      ],
      "source": [
        "# Seperate training and testing datasets\n",
        "X_train, X_test, y_train, y_test = train_test_split(image_data, y)\n",
        "print(X_train.shape, y_train.shape)\n",
        "\n",
        "# Model\n",
        "class Mymodel(keras.Model):\n",
        "   def __init__(self):\n",
        "       super().__init__()\n",
        "       self.conv1 = layers.Conv2D(256, 2, activation = 'relu', input_shape = (50,50,3))\n",
        "       self.pool1 = layers.MaxPool2D(2)\n",
        "       self.conv2 = layers.Conv2D(128, 2 , activation = 'relu')\n",
        "       self.pool2 = layers.MaxPool2D(2)\n",
        "       self.flatten = layers.Flatten()\n",
        "       self.dense1 = layers.Dense(64, activation = 'relu')\n",
        "       self.dense2 = layers.Dense(64, activation = 'relu')\n",
        "       self.dense3 = layers.Dense(1)\n",
        "\n",
        "   def call(self, inputs):\n",
        "       x = self.conv1(inputs)\n",
        "       x = self.pool1(x)\n",
        "       x = self.conv2(x)\n",
        "       x = self.pool2(x)\n",
        "       x = self.flatten(x)\n",
        "       x = self.dense1(x)\n",
        "       x = self.dense2(x)\n",
        "       return self.dense3(x)\n",
        "\n",
        "model = Mymodel()\n",
        "\n",
        "model.compile(optimizer = 'adam',\n",
        "             loss = keras.losses.BinaryCrossentropy(from_logits=True),\n",
        "             metrics = ['accuracy'])\n",
        "\n",
        "history = model.fit(X_train, y_train, epochs = 40)\n",
        "print(model.evaluate(X_test, y_test))\n",
        "model.summary()"
      ]
    },
    {
      "cell_type": "code",
      "source": [
        ""
      ],
      "metadata": {
        "id": "itrXIKUp9css"
      },
      "execution_count": null,
      "outputs": []
    }
  ],
  "metadata": {
    "accelerator": "GPU",
    "colab": {
      "collapsed_sections": [],
      "name": "Breast_histopathology_Image_analysis.ipynb",
      "provenance": [],
      "mount_file_id": "1kHX9MdVryCOPR6Nq2I7dleHC2tNi3KZX",
      "authorship_tag": "ABX9TyPXIvBMYrmnulvbR6poTqtB",
      "include_colab_link": true
    },
    "gpuClass": "standard",
    "kernelspec": {
      "display_name": "Python 3",
      "name": "python3"
    },
    "language_info": {
      "name": "python"
    }
  },
  "nbformat": 4,
  "nbformat_minor": 0
}