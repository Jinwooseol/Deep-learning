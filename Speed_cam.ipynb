{
  "nbformat": 4,
  "nbformat_minor": 0,
  "metadata": {
    "colab": {
      "name": "Speed_cam.ipynb",
      "provenance": [],
      "collapsed_sections": [],
      "mount_file_id": "15qSNNPD0VSkJpiHumNrobDiyCXpll7R3",
      "authorship_tag": "ABX9TyP9bPZeepa9feb72BRuxVBH",
      "include_colab_link": true
    },
    "kernelspec": {
      "name": "python3",
      "display_name": "Python 3"
    },
    "language_info": {
      "name": "python"
    }
  },
  "cells": [
    {
      "cell_type": "markdown",
      "metadata": {
        "id": "view-in-github",
        "colab_type": "text"
      },
      "source": [
        "<a href=\"https://colab.research.google.com/github/Jinwooseol/Deep-learning/blob/main/Speed_cam.ipynb\" target=\"_parent\"><img src=\"https://colab.research.google.com/assets/colab-badge.svg\" alt=\"Open In Colab\"/></a>"
      ]
    },
    {
      "cell_type": "code",
      "execution_count": null,
      "metadata": {
        "id": "USJ-cldPw9dZ"
      },
      "outputs": [],
      "source": [
        "import numpy as np\n",
        "import sys\n",
        "\n",
        "sys.path.append('/content/drive/MyDrive/인공지능 학습/전국무인교통단속카메라표준데이터_sub.csv')"
      ]
    },
    {
      "cell_type": "code",
      "source": [
        "def print_info(obj):\n",
        "  print('type: ', type(obj))\n",
        "  print('print: {}'.format(obj))\n",
        "\n",
        "  # 1D array\n",
        "  print('ndim: ', obj.ndim)\n",
        "  print('shape: ', obj.shape)\n",
        "  print('size: ', obj.size)\n",
        "  print('dtype: ', obj.dtype) # dtype: Data type\n",
        "  print('itemsize: ', obj.itemsize) # itemsize: Number of bytes that one of element occupied\n",
        "  print('data: ', obj.data)  # data: Address of array"
      ],
      "metadata": {
        "id": "3HlQXn4P4Y4T"
      },
      "execution_count": null,
      "outputs": []
    },
    {
      "cell_type": "code",
      "source": [
        "# Transform from csv to ndarray\n",
        "\n",
        "data = []\n",
        "with open('/content/drive/MyDrive/인공지능 학습/전국무인교통단속카메라표준데이터_sub.csv') as f:\n",
        "  for line in f:\n",
        "    if line[-1] == '\\n':\n",
        "      line = line[:-1]\n",
        "    if line[0] == ',' or line[-1] == ',':\n",
        "      continue  \n",
        "    data.append(line.split(sep=','))\n",
        "\n",
        "#for d in data:\n",
        "  #print(d)\n",
        "\n",
        "# try:\n",
        "#   for i in range(len(data)):\n",
        "#     for j in range(len(data[i])):\n",
        "#       data[i, j] = np.float64(data[i, j])\n",
        "    \n",
        "# except:\n",
        "#   print(\"Error\")   \n",
        "\n",
        "data_n = np.array(data, dtype = np.float64)\n",
        "print_info(data_n)\n",
        "\n"
      ],
      "metadata": {
        "id": "pP2pdTs0xPYq",
        "colab": {
          "base_uri": "https://localhost:8080/"
        },
        "outputId": "90ab67cf-2f3b-41fa-c068-f742dd7d764b"
      },
      "execution_count": null,
      "outputs": [
        {
          "output_type": "stream",
          "name": "stdout",
          "text": [
            "type:  <class 'numpy.ndarray'>\n",
            "print: [[ 37.36261513 126.70932627]\n",
            " [ 37.36481913 126.71157549]\n",
            " [ 37.31629461 126.83689383]\n",
            " ...\n",
            " [ 37.67316617 126.8101413 ]\n",
            " [ 37.67397705 126.8081935 ]\n",
            " [ 37.69041846 126.7828926 ]]\n",
            "ndim:  2\n",
            "shape:  (19324, 2)\n",
            "size:  38648\n",
            "dtype:  float64\n",
            "itemsize:  8\n",
            "data:  <memory at 0x7fc04d2e6ad0>\n"
          ]
        }
      ]
    },
    {
      "cell_type": "code",
      "source": [
        "import matplotlib.pyplot as plt\n",
        "\n",
        "_, axe = plt.subplots()\n",
        "axe.scatter(data_n[:, 0], data_n[:, 1])\n",
        "\n"
      ],
      "metadata": {
        "id": "vgu4QgIIxSSl",
        "colab": {
          "base_uri": "https://localhost:8080/",
          "height": 283
        },
        "outputId": "05fd0dff-553e-460b-a2a8-0c8c0f23a462"
      },
      "execution_count": null,
      "outputs": [
        {
          "output_type": "execute_result",
          "data": {
            "text/plain": [
              "<matplotlib.collections.PathCollection at 0x7fc04c08e790>"
            ]
          },
          "metadata": {},
          "execution_count": 41
        },
        {
          "output_type": "display_data",
          "data": {
            "text/plain": [
              "<Figure size 432x288 with 1 Axes>"
            ],
            "image/png": "[encoded data removed]"
          },
          "metadata": {
            "needs_background": "light"
          }
        }
      ]
    },
    {
      "cell_type": "code",
      "source": [
        "data_n2 = data_n[data_n[:, 1] < 220] # Filter the outlier\n",
        "\n",
        "_,axe = plt.subplots()\n",
        "axe.scatter(data_n2[:, 1], data_n2[:, 0])"
      ],
      "metadata": {
        "colab": {
          "base_uri": "https://localhost:8080/",
          "height": 283
        },
        "id": "DQtjaaWuA9oG",
        "outputId": "f3a5a3f1-b33f-4ff8-bf9b-5a82e94ee3ac"
      },
      "execution_count": null,
      "outputs": [
        {
          "output_type": "execute_result",
          "data": {
            "text/plain": [
              "<matplotlib.collections.PathCollection at 0x7fc04c11efd0>"
            ]
          },
          "metadata": {},
          "execution_count": 57
        },
        {
          "output_type": "display_data",
          "data": {
            "text/plain": [
              "<Figure size 432x288 with 1 Axes>"
            ],
            "image/png": "[encoded data removed]"
          },
          "metadata": {
            "needs_background": "light"
          }
        }
      ]
    },
    {
      "cell_type": "code",
      "source": [
        "data_n3 = data_n[(data_n[:, 1] < 220) & (data_n[:, 0] < 34) & (data_n[:, 0] > 33)] # Select JeJu\n",
        "\n",
        "_,axe = plt.subplots()\n",
        "axe.scatter(data_n3[:, 1], data_n3[:, 0])"
      ],
      "metadata": {
        "id": "7pQNEmJZD5JT",
        "colab": {
          "base_uri": "https://localhost:8080/",
          "height": 283
        },
        "outputId": "5a778d4b-3e9a-40ba-d9cb-3fc240c6f734"
      },
      "execution_count": null,
      "outputs": [
        {
          "output_type": "execute_result",
          "data": {
            "text/plain": [
              "<matplotlib.collections.PathCollection at 0x7fc04c104510>"
            ]
          },
          "metadata": {},
          "execution_count": 56
        },
        {
          "output_type": "display_data",
          "data": {
            "text/plain": [
              "<Figure size 432x288 with 1 Axes>"
            ],
            "image/png": "[encoded data removed]"
          },
          "metadata": {
            "needs_background": "light"
          }
        }
      ]
    },
    {
      "cell_type": "code",
      "source": [
        ""
      ],
      "metadata": {
        "id": "sOSz6AdvEtH3"
      },
      "execution_count": null,
      "outputs": []
    }
  ]
}